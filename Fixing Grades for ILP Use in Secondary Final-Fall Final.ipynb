{
 "cells": [
  {
   "cell_type": "markdown",
   "id": "5be80344",
   "metadata": {},
   "source": [
    "# Fixing Grades for ILP Use in Secondary\n",
    "\n",
    "In this Jupyter notebook, files for current and past grades will be generated for use in the ILP."
   ]
  },
  {
   "cell_type": "code",
   "execution_count": null,
   "id": "3ada987b",
   "metadata": {},
   "outputs": [],
   "source": [
    "import numpy as np\n",
    "import pandas as pd"
   ]
  },
  {
   "cell_type": "code",
   "execution_count": null,
   "id": "5fe1764d",
   "metadata": {},
   "outputs": [],
   "source": [
    "# LIST STU GRD CRS TCH STU.SC STU.ID STU.NM GRD.CN CRS.CO GRD.M1 GRD.M2 GRD.M3 GRD.M4 GRD.M5 GRD.M6 TCH.TE BY TCH.TE GRD.CN\n",
    "grades = pd.read_excel(r\"C:\\Users\\derek.castleman\\Desktop\\ILP\\2023-2024\\Fall\\Data\\GradesES.xlsx\")\n",
    "\n",
    "# LIST STU ID LN FN GR SEC MST.RM MST TCH.TE CRS CRS.CO MST.PD MST.SM \n",
    "teachers_students = pd.read_excel(r\"C:\\Users\\derek.castleman\\Desktop\\ILP\\2023-2024\\Fall\\Data\\Teachers.xlsx\")\n",
    "\n",
    "# LIST STU GBU GBK GBR STU.SC STU.ID STU.NM STU.GR GBK.PD GBK.NM GBR.CD GBU.CMK GBU.TG GBU.CSC\n",
    "gradebook = pd.read_excel(r\"C:\\Users\\derek.castleman\\Desktop\\ILP\\2023-2024\\Fall\\Data\\Gradebook.xlsx\")\n",
    "\n",
    "# LIST STU HIS CRS STU.SC STU.ID STU.NM STU.GR HIS.CN CRS.CO HIS.TE HIS.YR HIS.MK CRS.E1\n",
    "#past_grades = pd.read_excel(r\"C:\\Users\\derek.castleman\\Desktop\\PrintQueryToExcel_20230327_081650_672503e.xlsx\")"
   ]
  },
  {
   "cell_type": "code",
   "execution_count": null,
   "id": "00534d1c",
   "metadata": {},
   "outputs": [],
   "source": [
    "grades"
   ]
  },
  {
   "cell_type": "code",
   "execution_count": null,
   "id": "571824ba",
   "metadata": {},
   "outputs": [],
   "source": [
    "e = input(\"Mark that you are interested: \") #Inputting the mark of interest"
   ]
  },
  {
   "cell_type": "code",
   "execution_count": null,
   "id": "7cfac272",
   "metadata": {},
   "outputs": [],
   "source": [
    "# Sorting grades to put mark of interest on top if there are two rows\n",
    "grades = grades.sort_values(['Student ID', 'Course#', e],ascending=True)\n",
    "grades"
   ]
  },
  {
   "cell_type": "code",
   "execution_count": null,
   "id": "5becddb7",
   "metadata": {},
   "outputs": [],
   "source": [
    "# Dropping the extra row of information if it exists\n",
    "grades = grades.drop_duplicates(subset=['Student ID', 'Course#', 'Teacher name'], keep='first')\n",
    "grades"
   ]
  },
  {
   "cell_type": "code",
   "execution_count": null,
   "id": "beb25440",
   "metadata": {},
   "outputs": [],
   "source": [
    "# Selecting the columns that are of interest\n",
    "grades = grades[['School', 'Student ID', 'Student Name', 'Course#', 'Course title', e, 'Teacher name']]\n",
    "grades"
   ]
  },
  {
   "cell_type": "code",
   "execution_count": null,
   "id": "d40731a6",
   "metadata": {},
   "outputs": [],
   "source": [
    "teachers_students"
   ]
  },
  {
   "cell_type": "code",
   "execution_count": null,
   "id": "74456b18",
   "metadata": {},
   "outputs": [],
   "source": [
    "# Combining the roster of teachers with the grades\n",
    "combined = pd.merge(teachers_students, grades, how='left', left_on=['Student ID', 'Course title', 'Teacher name' ],\n",
    "                          right_on=['Student ID', 'Course title', 'Teacher name'])\n",
    "combined"
   ]
  },
  {
   "cell_type": "code",
   "execution_count": null,
   "id": "2524dfb4",
   "metadata": {},
   "outputs": [],
   "source": [
    "gradebook"
   ]
  },
  {
   "cell_type": "code",
   "execution_count": null,
   "id": "c51d39c7",
   "metadata": {},
   "outputs": [],
   "source": [
    "gradebook = gradebook.loc[gradebook['Status'] != 'I'] #Getting rid of incomplete classes from gradebook\n",
    "gradebook"
   ]
  },
  {
   "cell_type": "code",
   "execution_count": null,
   "id": "0a710bfa",
   "metadata": {},
   "outputs": [],
   "source": [
    "f = input(\"Input term of interest: F, S, 1, 2, 3 or 4?      \") #Inputting the term of interest"
   ]
  },
  {
   "cell_type": "code",
   "execution_count": null,
   "id": "0847ff10",
   "metadata": {},
   "outputs": [],
   "source": [
    "gradebook = gradebook.loc[(gradebook['Term'] == f) | (gradebook['Term'] == 'Y')]\n",
    "gradebook"
   ]
  },
  {
   "cell_type": "code",
   "execution_count": null,
   "id": "27a9c1ae",
   "metadata": {},
   "outputs": [],
   "source": [
    "current_grades = pd.merge(combined, gradebook, how='outer', left_on=['School', 'Student ID', 'Student Name', 'Period', 'Grade'],\n",
    "                       right_on = ['School', 'Student ID', 'Student Name', 'Pd', 'Grade'])\n",
    "current_grades"
   ]
  },
  {
   "cell_type": "code",
   "execution_count": null,
   "id": "3c94f3a0",
   "metadata": {},
   "outputs": [],
   "source": [
    "current_grades = current_grades.sort_values(['Student ID','Period'],ascending=True)\n",
    "current_grades"
   ]
  },
  {
   "cell_type": "code",
   "execution_count": null,
   "id": "598ecf86",
   "metadata": {
    "scrolled": false
   },
   "outputs": [],
   "source": [
    "g = input(\"What schools are you interest in: High School, Middle School, Secondary, Elementary?      \") #Inputting the school of interest"
   ]
  },
  {
   "cell_type": "code",
   "execution_count": null,
   "id": "3f2bc690",
   "metadata": {},
   "outputs": [],
   "source": [
    "if g == 'Secondary':\n",
    "    x = current_grades.loc[(current_grades['School'] == 1) | (current_grades['School'] == 2) | (current_grades['School'] == 7) | (current_grades['School'] == 8)]\n",
    "elif g == 'High School':\n",
    "    x = current_grades.loc[(current_grades['School'] == 1) | (current_grades['School'] == 8)]\n",
    "elif g == 'Middle School':\n",
    "    x = current_grades.loc[(current_grades['School'] == 2) | (current_grades['School'] == 7)]\n",
    "elif g == 'Elementary':\n",
    "    x = current_grades.loc[(current_grades['School'] == 4) | (current_grades['School'] == 6)]\n"
   ]
  },
  {
   "cell_type": "code",
   "execution_count": null,
   "id": "bb588cbf",
   "metadata": {},
   "outputs": [],
   "source": [
    "current_grades = x.sort_values(['Student ID','Period'],ascending=True)\n",
    "current_grades"
   ]
  },
  {
   "cell_type": "code",
   "execution_count": null,
   "id": "1365d26b",
   "metadata": {},
   "outputs": [],
   "source": [
    "#current_grades[e] = current_grades[e].fillna(current_grades['OverallMark']) #Filling in missing marks with gradebook grade"
   ]
  },
  {
   "cell_type": "code",
   "execution_count": null,
   "id": "50353528",
   "metadata": {},
   "outputs": [],
   "source": [
    "p = input(\"Name the file: Current Grades or Past Grades?      \") # Naming the file"
   ]
  },
  {
   "cell_type": "code",
   "execution_count": null,
   "id": "94c42edb",
   "metadata": {},
   "outputs": [],
   "source": [
    "import base64\n",
    "from IPython.display import HTML\n",
    "\n",
    "def create_download_link( df, title = p, filename = p):\n",
    "    csv = df.to_csv()\n",
    "    b64 = base64.b64encode(csv.encode())\n",
    "    payload = b64.decode()\n",
    "    html = '<a download=\"{filename}\" href=\"data:text/csv;base64,{payload}\" target=\"_blank\">{title}</a>'\n",
    "    html = html.format(payload=payload,title=title,filename=filename)\n",
    "    return HTML(html)\n",
    "\n",
    "create_download_link(current_grades)"
   ]
  },
  {
   "cell_type": "code",
   "execution_count": null,
   "id": "0964cfaf",
   "metadata": {},
   "outputs": [],
   "source": [
    "past_grades"
   ]
  },
  {
   "cell_type": "code",
   "execution_count": null,
   "id": "33ac729c",
   "metadata": {},
   "outputs": [],
   "source": [
    "h = int(input(\"Input previous term of interest or push stop if done: 1 or 2?      \"))"
   ]
  },
  {
   "cell_type": "code",
   "execution_count": null,
   "id": "60a6c41a",
   "metadata": {},
   "outputs": [],
   "source": [
    "g = int(input(\"Input last two numbers of beginning of academic year: 21, 22, 23, etc...      \"))"
   ]
  },
  {
   "cell_type": "code",
   "execution_count": null,
   "id": "99d67ca8",
   "metadata": {},
   "outputs": [],
   "source": [
    "past_grades = past_grades[(past_grades['Term'] == h) & (past_grades['Year'] == g)]\n",
    "past_grades"
   ]
  },
  {
   "cell_type": "code",
   "execution_count": null,
   "id": "64bf5852",
   "metadata": {},
   "outputs": [],
   "source": [
    "teachers_students"
   ]
  },
  {
   "cell_type": "code",
   "execution_count": null,
   "id": "5ee4d050",
   "metadata": {},
   "outputs": [],
   "source": [
    "j = input(\"Previous semester you are interested in: F or S?      \") #Inputting the semester of interest"
   ]
  },
  {
   "cell_type": "code",
   "execution_count": null,
   "id": "496625d1",
   "metadata": {},
   "outputs": [],
   "source": [
    "teacher_students = teachers_students.loc[(teachers_students['Semester'] == j) | (teachers_students['Semester'] == 'Y')]\n",
    "teacher_students"
   ]
  },
  {
   "cell_type": "code",
   "execution_count": null,
   "id": "f7b56317",
   "metadata": {},
   "outputs": [],
   "source": [
    "combined = pd.merge(teacher_students, past_grades, how='left', left_on=['Student ID', 'Course title', 'Grade'],\n",
    "                          right_on=['Student ID', 'Course title', 'Grade'])\n",
    "combined"
   ]
  },
  {
   "cell_type": "code",
   "execution_count": null,
   "id": "a898597e",
   "metadata": {},
   "outputs": [],
   "source": [
    "g = input(\"What schools are you interest in: High School, Middle School, Secondary, Elementary?      \") #Inputting the school of interest"
   ]
  },
  {
   "cell_type": "code",
   "execution_count": null,
   "id": "bb0d56eb",
   "metadata": {},
   "outputs": [],
   "source": [
    "if g == 'Secondary':\n",
    "    y = combined.loc[(combined['School'] == 1) | (combined['School'] == 2) | (combined['School'] == 7) | (combined['School'] == 8)]\n",
    "elif g == 'High School':\n",
    "    y = combined.loc[(combined['School'] == 1) | (combined['School'] == 8)]\n",
    "elif g == 'Middle School':\n",
    "    y = combined.loc[(combined['School'] == 2) | (combined['School'] == 7)]\n",
    "elif g == 'Elementary':\n",
    "    y = combined.loc[(combined['School'] == 4) | (combined['School'] == 6)]"
   ]
  },
  {
   "cell_type": "code",
   "execution_count": null,
   "id": "434baa53",
   "metadata": {},
   "outputs": [],
   "source": [
    "past_grades = y.sort_values(['Student ID','Period'],ascending=True)\n",
    "past_grades"
   ]
  },
  {
   "cell_type": "code",
   "execution_count": null,
   "id": "5720553c",
   "metadata": {},
   "outputs": [],
   "source": [
    "m = input(\"Name the second file of interest:Past Grades or something else?      \") # Naming the file"
   ]
  },
  {
   "cell_type": "code",
   "execution_count": null,
   "id": "4a40c959",
   "metadata": {},
   "outputs": [],
   "source": [
    "import base64\n",
    "from IPython.display import HTML\n",
    "\n",
    "def create_download_link( df, title = m, filename = m):\n",
    "    csv = df.to_csv()\n",
    "    b64 = base64.b64encode(csv.encode())\n",
    "    payload = b64.decode()\n",
    "    html = '<a download=\"{filename}\" href=\"data:text/csv;base64,{payload}\" target=\"_blank\">{title}</a>'\n",
    "    html = html.format(payload=payload,title=title,filename=filename)\n",
    "    return HTML(html)\n",
    "\n",
    "create_download_link(past_grades)"
   ]
  },
  {
   "cell_type": "code",
   "execution_count": null,
   "id": "1dc2ef4a",
   "metadata": {},
   "outputs": [],
   "source": [
    "import base64\n",
    "from IPython.display import HTML\n",
    "\n",
    "def create_download_link( df, title = p, filename = p):\n",
    "    csv = df.to_csv()\n",
    "    b64 = base64.b64encode(csv.encode())\n",
    "    payload = b64.decode()\n",
    "    html = '<a download=\"{filename}\" href=\"data:text/csv;base64,{payload}\" target=\"_blank\">{title}</a>'\n",
    "    html = html.format(payload=payload,title=title,filename=filename)\n",
    "    return HTML(html)\n",
    "\n",
    "create_download_link(current_grades)"
   ]
  }
 ],
 "metadata": {
  "kernelspec": {
   "display_name": "Python 3 (ipykernel)",
   "language": "python",
   "name": "python3"
  },
  "language_info": {
   "codemirror_mode": {
    "name": "ipython",
    "version": 3
   },
   "file_extension": ".py",
   "mimetype": "text/x-python",
   "name": "python",
   "nbconvert_exporter": "python",
   "pygments_lexer": "ipython3",
   "version": "3.9.7"
  }
 },
 "nbformat": 4,
 "nbformat_minor": 5
}
