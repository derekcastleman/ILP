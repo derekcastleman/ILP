{
 "cells": [
  {
   "cell_type": "code",
   "execution_count": null,
   "id": "59cd5e81",
   "metadata": {},
   "outputs": [],
   "source": [
    "import numpy as np\n",
    "import pandas as pd"
   ]
  },
  {
   "cell_type": "code",
   "execution_count": null,
   "id": "619b8bf4",
   "metadata": {},
   "outputs": [],
   "source": [
    "# Input current grades file from Fixing Grades for ILP Use in Secondary Final\n",
    "grades = pd.read_csv(r\"C:\\Users\\derek.castleman\\Desktop\\ILP\\2023-2024\\Fall\\Data\\Current Grades Secondary (1).csv\")\n",
    "grades"
   ]
  },
  {
   "cell_type": "code",
   "execution_count": null,
   "id": "eb5a2523",
   "metadata": {},
   "outputs": [],
   "source": [
    "grades.OverallScr = grades.OverallScr.round(0)\n",
    "grades"
   ]
  },
  {
   "cell_type": "code",
   "execution_count": null,
   "id": "0b230f06",
   "metadata": {},
   "outputs": [],
   "source": [
    "no_grades = grades[grades['Mark1'].isna()]\n",
    "no_grades"
   ]
  },
  {
   "cell_type": "code",
   "execution_count": null,
   "id": "2e16e22f",
   "metadata": {},
   "outputs": [],
   "source": [
    "credit = grades[(grades['Mark1'] == 'CR')|(grades['Mark1'] == 'NM') ]\n",
    "credit['Score needed'] = 'On Track'\n",
    "credit"
   ]
  },
  {
   "cell_type": "code",
   "execution_count": null,
   "id": "6d16d9d8",
   "metadata": {},
   "outputs": [],
   "source": [
    "no_credit = grades[grades['Mark1'] == 'NC' ]\n",
    "no_credit['Score needed'] = 140 - no_credit['OverallScr']\n",
    "no_credit['Score needed'] = 'Min: ' + no_credit['Score needed'].astype(str)\n",
    "no_credit"
   ]
  },
  {
   "cell_type": "code",
   "execution_count": null,
   "id": "53e1ffce",
   "metadata": {},
   "outputs": [],
   "source": [
    "incomplete = grades[grades['Mark1'] == 'I' ]\n",
    "incomplete['Score needed'] = 140 - incomplete['OverallScr']\n",
    "incomplete['Score needed'] = 'Min: ' + incomplete['Score needed'].astype(str)\n",
    "incomplete"
   ]
  },
  {
   "cell_type": "code",
   "execution_count": null,
   "id": "491e6725",
   "metadata": {},
   "outputs": [],
   "source": [
    "grades = grades[grades['Mark1'].notna()]\n",
    "grades"
   ]
  },
  {
   "cell_type": "code",
   "execution_count": null,
   "id": "d948ac50",
   "metadata": {},
   "outputs": [],
   "source": [
    "grades = grades[grades['Mark1'] != 'CR']\n",
    "grades = grades[grades['Mark1'] != 'NM']\n",
    "grades = grades[grades['Mark1'] != 'NC']\n",
    "grades = grades[grades['Mark1'] != 'I']\n",
    "grades"
   ]
  },
  {
   "cell_type": "code",
   "execution_count": null,
   "id": "2c180ed8",
   "metadata": {},
   "outputs": [],
   "source": [
    "good_grades = grades[grades['OverallScr'] >= 70]\n",
    "good_grades['Score needed'] = 'On Track'\n",
    "good_grades"
   ]
  },
  {
   "cell_type": "code",
   "execution_count": null,
   "id": "8df161fe",
   "metadata": {},
   "outputs": [],
   "source": [
    "bad_grades = grades[grades['OverallScr'] < 70]\n",
    "bad_grades['Score needed'] = 140 - bad_grades['OverallScr']\n",
    "bad_grades['Score needed'] = 'Min: ' + bad_grades['Score needed'].astype(str)\n",
    "bad_grades"
   ]
  },
  {
   "cell_type": "code",
   "execution_count": null,
   "id": "cd7767dc",
   "metadata": {},
   "outputs": [],
   "source": [
    "grades = pd.concat([no_grades, good_grades, bad_grades, credit, no_credit, incomplete])\n",
    "grades"
   ]
  },
  {
   "cell_type": "code",
   "execution_count": null,
   "id": "d4fe6932",
   "metadata": {},
   "outputs": [],
   "source": [
    "grades = grades.sort_values(['Student ID', 'Period'],ascending=True)\n",
    "grades"
   ]
  },
  {
   "cell_type": "code",
   "execution_count": null,
   "id": "ec9a6636",
   "metadata": {},
   "outputs": [],
   "source": [
    "import base64\n",
    "from IPython.display import HTML\n",
    "\n",
    "def create_download_link( df, title = \"Grade FInal Q1 Final\", filename = \"Grade Final Q1 Final\"):\n",
    "    csv = df.to_csv()\n",
    "    b64 = base64.b64encode(csv.encode())\n",
    "    payload = b64.decode()\n",
    "    html = '<a download=\"{filename}\" href=\"data:text/csv;base64,{payload}\" target=\"_blank\">{title}</a>'\n",
    "    html = html.format(payload=payload,title=title,filename=filename)\n",
    "    return HTML(html)\n",
    "\n",
    "create_download_link(grades)"
   ]
  },
  {
   "cell_type": "code",
   "execution_count": null,
   "id": "3a34c153",
   "metadata": {},
   "outputs": [],
   "source": []
  }
 ],
 "metadata": {
  "kernelspec": {
   "display_name": "Python 3 (ipykernel)",
   "language": "python",
   "name": "python3"
  },
  "language_info": {
   "codemirror_mode": {
    "name": "ipython",
    "version": 3
   },
   "file_extension": ".py",
   "mimetype": "text/x-python",
   "name": "python",
   "nbconvert_exporter": "python",
   "pygments_lexer": "ipython3",
   "version": "3.9.7"
  }
 },
 "nbformat": 4,
 "nbformat_minor": 5
}
