{
 "cells": [
  {
   "cell_type": "markdown",
   "id": "5be80344",
   "metadata": {},
   "source": [
    "# Fixing Grades for ILP Use in Elementary\n",
    "\n",
    "For the elementary school level, run this program for each set of grades that you are interested in. Each one will generate a different file that can then be used in the ILP program."
   ]
  },
  {
   "cell_type": "code",
   "execution_count": null,
   "id": "3ada987b",
   "metadata": {},
   "outputs": [],
   "source": [
    "import numpy as np\n",
    "import pandas as pd"
   ]
  },
  {
   "cell_type": "code",
   "execution_count": null,
   "id": "5fe1764d",
   "metadata": {},
   "outputs": [],
   "source": [
    "# Loading in the needed files\n",
    "\n",
    "# LIST STU GRD CRS TCH STU.SC STU.ID STU.NM GRD.CN CRS.CO GRD.M1 GRD.M2 GRD.M3 GRD.M4 GRD.M5 GRD.M6 TCH.TE BY TCH.TE GRD.CN\n",
    "grades = pd.read_excel(r\"C:\\Users\\derek.castleman\\Desktop\\ILP\\2023-2024\\Fall\\Data\\GradesRedone.xlsx\")\n",
    "\n",
    "# LIST STU ID LN FN GR SEC MST.RM MST TCH.TE CRS CRS.CO MST.PD\n",
    "teachers_students = pd.read_excel(r\"C:\\Users\\derek.castleman\\Desktop\\ILP\\2023-2024\\Fall\\Data\\Teachers.xlsx\")\n",
    "\n",
    "# LIST STU GBU GBK GBR STU.SC STU.ID STU.NM STU.GR GBK.PD GBK.NM GBR.CD GBU.CMK GBU.TG GBU.CSC\n",
    "gradebook = pd.read_excel(r\"C:\\Users\\derek.castleman\\Desktop\\ILP\\2023-2024\\Fall\\Data\\Gradebook.xlsx\")"
   ]
  },
  {
   "cell_type": "code",
   "execution_count": null,
   "id": "00534d1c",
   "metadata": {},
   "outputs": [],
   "source": [
    "grades"
   ]
  },
  {
   "cell_type": "code",
   "execution_count": null,
   "id": "571824ba",
   "metadata": {},
   "outputs": [],
   "source": [
    "e = input(\"Mark that you are interested: Mark1, Mark2, etc...    \") #Inputting the mark of interest"
   ]
  },
  {
   "cell_type": "code",
   "execution_count": null,
   "id": "7cfac272",
   "metadata": {},
   "outputs": [],
   "source": [
    "# Sorting grades to put mark of interest on top if there are two rows\n",
    "grades = grades.sort_values(['Student ID', 'Course#', e],ascending=True)\n",
    "grades"
   ]
  },
  {
   "cell_type": "code",
   "execution_count": null,
   "id": "5becddb7",
   "metadata": {},
   "outputs": [],
   "source": [
    "# Dropping the extra row of information if it exists\n",
    "grades = grades.drop_duplicates(subset=['Student ID', 'Course#', 'Teacher name'], keep='first')\n",
    "grades"
   ]
  },
  {
   "cell_type": "code",
   "execution_count": null,
   "id": "beb25440",
   "metadata": {},
   "outputs": [],
   "source": [
    "# Selecting the columns that are of interest\n",
    "grades = grades[['School', 'Student ID', 'Student Name', 'Course#', 'Course title', e, 'Teacher name']]\n",
    "grades"
   ]
  },
  {
   "cell_type": "code",
   "execution_count": null,
   "id": "95d4af81",
   "metadata": {},
   "outputs": [],
   "source": [
    "teachers_students"
   ]
  },
  {
   "cell_type": "code",
   "execution_count": null,
   "id": "fa14b110",
   "metadata": {},
   "outputs": [],
   "source": [
    "# Combining the roster of teachers with the grades\n",
    "combined = pd.merge(teachers_students, grades, how='left', left_on=['Student ID', 'Course title', 'Teacher name' ],\n",
    "                          right_on=['Student ID', 'Course title', 'Teacher name'])\n",
    "combined"
   ]
  },
  {
   "cell_type": "code",
   "execution_count": null,
   "id": "ff266c0b",
   "metadata": {},
   "outputs": [],
   "source": [
    "current_grades = combined[['Student ID', 'Course title', 'Teacher name', 'Mark1']]\n",
    "current_grades"
   ]
  },
  {
   "cell_type": "code",
   "execution_count": null,
   "id": "e2f37a1e",
   "metadata": {},
   "outputs": [],
   "source": [
    "h = input(\"Name the file: Current Grades or Past Grades?      \") # Naming the file"
   ]
  },
  {
   "cell_type": "code",
   "execution_count": null,
   "id": "94c42edb",
   "metadata": {},
   "outputs": [],
   "source": [
    "import base64\n",
    "from IPython.display import HTML\n",
    "\n",
    "def create_download_link( df, title = h, filename = h):\n",
    "    csv = df.to_csv()\n",
    "    b64 = base64.b64encode(csv.encode())\n",
    "    payload = b64.decode()\n",
    "    html = '<a download=\"{filename}\" href=\"data:text/csv;base64,{payload}\" target=\"_blank\">{title}</a>'\n",
    "    html = html.format(payload=payload,title=title,filename=filename)\n",
    "    return HTML(html)\n",
    "\n",
    "create_download_link(current_grades)"
   ]
  },
  {
   "cell_type": "code",
   "execution_count": null,
   "id": "1dc2ef4a",
   "metadata": {},
   "outputs": [],
   "source": []
  }
 ],
 "metadata": {
  "kernelspec": {
   "display_name": "Python 3 (ipykernel)",
   "language": "python",
   "name": "python3"
  },
  "language_info": {
   "codemirror_mode": {
    "name": "ipython",
    "version": 3
   },
   "file_extension": ".py",
   "mimetype": "text/x-python",
   "name": "python",
   "nbconvert_exporter": "python",
   "pygments_lexer": "ipython3",
   "version": "3.9.7"
  }
 },
 "nbformat": 4,
 "nbformat_minor": 5
}
