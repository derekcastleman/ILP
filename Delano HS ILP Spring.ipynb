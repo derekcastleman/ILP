{
 "cells": [
  {
   "cell_type": "code",
   "execution_count": 1,
   "metadata": {},
   "outputs": [],
   "source": [
    "import pandas as pd\n",
    "import numpy as np\n",
    "\n",
    "import os\n",
    "# CHANGE THIS DIRECTORY\n",
    "#os.chdir('/Users/una.lee/The Wonderful Company/Wonderful Education Data - DataTeam/Scripts/')"
   ]
  },
  {
   "cell_type": "code",
   "execution_count": 2,
   "metadata": {},
   "outputs": [],
   "source": [
    "import pandas as pd\n",
    "import numpy as np"
   ]
  },
  {
   "cell_type": "code",
   "execution_count": 3,
   "metadata": {},
   "outputs": [
    {
     "ename": "FileNotFoundError",
     "evalue": "[Errno 2] No such file or directory: 'C:\\\\Users\\\\derek.castleman\\\\Desktop\\\\ILP\\\\ILP Spring\\\\NWEAWinter.csv'",
     "output_type": "error",
     "traceback": [
      "\u001b[1;31m---------------------------------------------------------------------------\u001b[0m",
      "\u001b[1;31mFileNotFoundError\u001b[0m                         Traceback (most recent call last)",
      "\u001b[1;32mC:\\Users\\DEREK~1.CAS\\AppData\\Local\\Temp/ipykernel_21812/4049508239.py\u001b[0m in \u001b[0;36m<module>\u001b[1;34m\u001b[0m\n\u001b[0;32m      1\u001b[0m \u001b[1;31m# import winter 2021 NWEA scores\u001b[0m\u001b[1;33m\u001b[0m\u001b[1;33m\u001b[0m\u001b[0m\n\u001b[1;32m----> 2\u001b[1;33m \u001b[0mnwea_winter\u001b[0m \u001b[1;33m=\u001b[0m \u001b[0mpd\u001b[0m\u001b[1;33m.\u001b[0m\u001b[0mread_csv\u001b[0m\u001b[1;33m(\u001b[0m\u001b[1;34mr\"C:\\Users\\derek.castleman\\Desktop\\ILP\\ILP Spring\\NWEAWinter.csv\"\u001b[0m\u001b[1;33m)\u001b[0m\u001b[1;33m\u001b[0m\u001b[1;33m\u001b[0m\u001b[0m\n\u001b[0m\u001b[0;32m      3\u001b[0m \u001b[1;31m# import fall 2021 NWEA scores\u001b[0m\u001b[1;33m\u001b[0m\u001b[1;33m\u001b[0m\u001b[0m\n\u001b[0;32m      4\u001b[0m \u001b[0mnwea_fall\u001b[0m \u001b[1;33m=\u001b[0m \u001b[0mpd\u001b[0m\u001b[1;33m.\u001b[0m\u001b[0mread_csv\u001b[0m\u001b[1;33m(\u001b[0m\u001b[1;34mr\"C:\\Users\\derek.castleman\\Desktop\\ILP\\ILP Spring\\NWEAFall.csv\"\u001b[0m\u001b[1;33m)\u001b[0m\u001b[1;33m\u001b[0m\u001b[1;33m\u001b[0m\u001b[0m\n\u001b[0;32m      5\u001b[0m \u001b[1;33m\u001b[0m\u001b[0m\n",
      "\u001b[1;32m~\\Anaconda3\\lib\\site-packages\\pandas\\util\\_decorators.py\u001b[0m in \u001b[0;36mwrapper\u001b[1;34m(*args, **kwargs)\u001b[0m\n\u001b[0;32m    309\u001b[0m                     \u001b[0mstacklevel\u001b[0m\u001b[1;33m=\u001b[0m\u001b[0mstacklevel\u001b[0m\u001b[1;33m,\u001b[0m\u001b[1;33m\u001b[0m\u001b[1;33m\u001b[0m\u001b[0m\n\u001b[0;32m    310\u001b[0m                 )\n\u001b[1;32m--> 311\u001b[1;33m             \u001b[1;32mreturn\u001b[0m \u001b[0mfunc\u001b[0m\u001b[1;33m(\u001b[0m\u001b[1;33m*\u001b[0m\u001b[0margs\u001b[0m\u001b[1;33m,\u001b[0m \u001b[1;33m**\u001b[0m\u001b[0mkwargs\u001b[0m\u001b[1;33m)\u001b[0m\u001b[1;33m\u001b[0m\u001b[1;33m\u001b[0m\u001b[0m\n\u001b[0m\u001b[0;32m    312\u001b[0m \u001b[1;33m\u001b[0m\u001b[0m\n\u001b[0;32m    313\u001b[0m         \u001b[1;32mreturn\u001b[0m \u001b[0mwrapper\u001b[0m\u001b[1;33m\u001b[0m\u001b[1;33m\u001b[0m\u001b[0m\n",
      "\u001b[1;32m~\\Anaconda3\\lib\\site-packages\\pandas\\io\\parsers\\readers.py\u001b[0m in \u001b[0;36mread_csv\u001b[1;34m(filepath_or_buffer, sep, delimiter, header, names, index_col, usecols, squeeze, prefix, mangle_dupe_cols, dtype, engine, converters, true_values, false_values, skipinitialspace, skiprows, skipfooter, nrows, na_values, keep_default_na, na_filter, verbose, skip_blank_lines, parse_dates, infer_datetime_format, keep_date_col, date_parser, dayfirst, cache_dates, iterator, chunksize, compression, thousands, decimal, lineterminator, quotechar, quoting, doublequote, escapechar, comment, encoding, encoding_errors, dialect, error_bad_lines, warn_bad_lines, on_bad_lines, delim_whitespace, low_memory, memory_map, float_precision, storage_options)\u001b[0m\n\u001b[0;32m    584\u001b[0m     \u001b[0mkwds\u001b[0m\u001b[1;33m.\u001b[0m\u001b[0mupdate\u001b[0m\u001b[1;33m(\u001b[0m\u001b[0mkwds_defaults\u001b[0m\u001b[1;33m)\u001b[0m\u001b[1;33m\u001b[0m\u001b[1;33m\u001b[0m\u001b[0m\n\u001b[0;32m    585\u001b[0m \u001b[1;33m\u001b[0m\u001b[0m\n\u001b[1;32m--> 586\u001b[1;33m     \u001b[1;32mreturn\u001b[0m \u001b[0m_read\u001b[0m\u001b[1;33m(\u001b[0m\u001b[0mfilepath_or_buffer\u001b[0m\u001b[1;33m,\u001b[0m \u001b[0mkwds\u001b[0m\u001b[1;33m)\u001b[0m\u001b[1;33m\u001b[0m\u001b[1;33m\u001b[0m\u001b[0m\n\u001b[0m\u001b[0;32m    587\u001b[0m \u001b[1;33m\u001b[0m\u001b[0m\n\u001b[0;32m    588\u001b[0m \u001b[1;33m\u001b[0m\u001b[0m\n",
      "\u001b[1;32m~\\Anaconda3\\lib\\site-packages\\pandas\\io\\parsers\\readers.py\u001b[0m in \u001b[0;36m_read\u001b[1;34m(filepath_or_buffer, kwds)\u001b[0m\n\u001b[0;32m    480\u001b[0m \u001b[1;33m\u001b[0m\u001b[0m\n\u001b[0;32m    481\u001b[0m     \u001b[1;31m# Create the parser.\u001b[0m\u001b[1;33m\u001b[0m\u001b[1;33m\u001b[0m\u001b[0m\n\u001b[1;32m--> 482\u001b[1;33m     \u001b[0mparser\u001b[0m \u001b[1;33m=\u001b[0m \u001b[0mTextFileReader\u001b[0m\u001b[1;33m(\u001b[0m\u001b[0mfilepath_or_buffer\u001b[0m\u001b[1;33m,\u001b[0m \u001b[1;33m**\u001b[0m\u001b[0mkwds\u001b[0m\u001b[1;33m)\u001b[0m\u001b[1;33m\u001b[0m\u001b[1;33m\u001b[0m\u001b[0m\n\u001b[0m\u001b[0;32m    483\u001b[0m \u001b[1;33m\u001b[0m\u001b[0m\n\u001b[0;32m    484\u001b[0m     \u001b[1;32mif\u001b[0m \u001b[0mchunksize\u001b[0m \u001b[1;32mor\u001b[0m \u001b[0miterator\u001b[0m\u001b[1;33m:\u001b[0m\u001b[1;33m\u001b[0m\u001b[1;33m\u001b[0m\u001b[0m\n",
      "\u001b[1;32m~\\Anaconda3\\lib\\site-packages\\pandas\\io\\parsers\\readers.py\u001b[0m in \u001b[0;36m__init__\u001b[1;34m(self, f, engine, **kwds)\u001b[0m\n\u001b[0;32m    809\u001b[0m             \u001b[0mself\u001b[0m\u001b[1;33m.\u001b[0m\u001b[0moptions\u001b[0m\u001b[1;33m[\u001b[0m\u001b[1;34m\"has_index_names\"\u001b[0m\u001b[1;33m]\u001b[0m \u001b[1;33m=\u001b[0m \u001b[0mkwds\u001b[0m\u001b[1;33m[\u001b[0m\u001b[1;34m\"has_index_names\"\u001b[0m\u001b[1;33m]\u001b[0m\u001b[1;33m\u001b[0m\u001b[1;33m\u001b[0m\u001b[0m\n\u001b[0;32m    810\u001b[0m \u001b[1;33m\u001b[0m\u001b[0m\n\u001b[1;32m--> 811\u001b[1;33m         \u001b[0mself\u001b[0m\u001b[1;33m.\u001b[0m\u001b[0m_engine\u001b[0m \u001b[1;33m=\u001b[0m \u001b[0mself\u001b[0m\u001b[1;33m.\u001b[0m\u001b[0m_make_engine\u001b[0m\u001b[1;33m(\u001b[0m\u001b[0mself\u001b[0m\u001b[1;33m.\u001b[0m\u001b[0mengine\u001b[0m\u001b[1;33m)\u001b[0m\u001b[1;33m\u001b[0m\u001b[1;33m\u001b[0m\u001b[0m\n\u001b[0m\u001b[0;32m    812\u001b[0m \u001b[1;33m\u001b[0m\u001b[0m\n\u001b[0;32m    813\u001b[0m     \u001b[1;32mdef\u001b[0m \u001b[0mclose\u001b[0m\u001b[1;33m(\u001b[0m\u001b[0mself\u001b[0m\u001b[1;33m)\u001b[0m\u001b[1;33m:\u001b[0m\u001b[1;33m\u001b[0m\u001b[1;33m\u001b[0m\u001b[0m\n",
      "\u001b[1;32m~\\Anaconda3\\lib\\site-packages\\pandas\\io\\parsers\\readers.py\u001b[0m in \u001b[0;36m_make_engine\u001b[1;34m(self, engine)\u001b[0m\n\u001b[0;32m   1038\u001b[0m             )\n\u001b[0;32m   1039\u001b[0m         \u001b[1;31m# error: Too many arguments for \"ParserBase\"\u001b[0m\u001b[1;33m\u001b[0m\u001b[1;33m\u001b[0m\u001b[0m\n\u001b[1;32m-> 1040\u001b[1;33m         \u001b[1;32mreturn\u001b[0m \u001b[0mmapping\u001b[0m\u001b[1;33m[\u001b[0m\u001b[0mengine\u001b[0m\u001b[1;33m]\u001b[0m\u001b[1;33m(\u001b[0m\u001b[0mself\u001b[0m\u001b[1;33m.\u001b[0m\u001b[0mf\u001b[0m\u001b[1;33m,\u001b[0m \u001b[1;33m**\u001b[0m\u001b[0mself\u001b[0m\u001b[1;33m.\u001b[0m\u001b[0moptions\u001b[0m\u001b[1;33m)\u001b[0m  \u001b[1;31m# type: ignore[call-arg]\u001b[0m\u001b[1;33m\u001b[0m\u001b[1;33m\u001b[0m\u001b[0m\n\u001b[0m\u001b[0;32m   1041\u001b[0m \u001b[1;33m\u001b[0m\u001b[0m\n\u001b[0;32m   1042\u001b[0m     \u001b[1;32mdef\u001b[0m \u001b[0m_failover_to_python\u001b[0m\u001b[1;33m(\u001b[0m\u001b[0mself\u001b[0m\u001b[1;33m)\u001b[0m\u001b[1;33m:\u001b[0m\u001b[1;33m\u001b[0m\u001b[1;33m\u001b[0m\u001b[0m\n",
      "\u001b[1;32m~\\Anaconda3\\lib\\site-packages\\pandas\\io\\parsers\\c_parser_wrapper.py\u001b[0m in \u001b[0;36m__init__\u001b[1;34m(self, src, **kwds)\u001b[0m\n\u001b[0;32m     49\u001b[0m \u001b[1;33m\u001b[0m\u001b[0m\n\u001b[0;32m     50\u001b[0m         \u001b[1;31m# open handles\u001b[0m\u001b[1;33m\u001b[0m\u001b[1;33m\u001b[0m\u001b[0m\n\u001b[1;32m---> 51\u001b[1;33m         \u001b[0mself\u001b[0m\u001b[1;33m.\u001b[0m\u001b[0m_open_handles\u001b[0m\u001b[1;33m(\u001b[0m\u001b[0msrc\u001b[0m\u001b[1;33m,\u001b[0m \u001b[0mkwds\u001b[0m\u001b[1;33m)\u001b[0m\u001b[1;33m\u001b[0m\u001b[1;33m\u001b[0m\u001b[0m\n\u001b[0m\u001b[0;32m     52\u001b[0m         \u001b[1;32massert\u001b[0m \u001b[0mself\u001b[0m\u001b[1;33m.\u001b[0m\u001b[0mhandles\u001b[0m \u001b[1;32mis\u001b[0m \u001b[1;32mnot\u001b[0m \u001b[1;32mNone\u001b[0m\u001b[1;33m\u001b[0m\u001b[1;33m\u001b[0m\u001b[0m\n\u001b[0;32m     53\u001b[0m \u001b[1;33m\u001b[0m\u001b[0m\n",
      "\u001b[1;32m~\\Anaconda3\\lib\\site-packages\\pandas\\io\\parsers\\base_parser.py\u001b[0m in \u001b[0;36m_open_handles\u001b[1;34m(self, src, kwds)\u001b[0m\n\u001b[0;32m    220\u001b[0m         \u001b[0mLet\u001b[0m \u001b[0mthe\u001b[0m \u001b[0mreaders\u001b[0m \u001b[0mopen\u001b[0m \u001b[0mIOHandles\u001b[0m \u001b[0mafter\u001b[0m \u001b[0mthey\u001b[0m \u001b[0mare\u001b[0m \u001b[0mdone\u001b[0m \u001b[1;32mwith\u001b[0m \u001b[0mtheir\u001b[0m \u001b[0mpotential\u001b[0m \u001b[0mraises\u001b[0m\u001b[1;33m.\u001b[0m\u001b[1;33m\u001b[0m\u001b[1;33m\u001b[0m\u001b[0m\n\u001b[0;32m    221\u001b[0m         \"\"\"\n\u001b[1;32m--> 222\u001b[1;33m         self.handles = get_handle(\n\u001b[0m\u001b[0;32m    223\u001b[0m             \u001b[0msrc\u001b[0m\u001b[1;33m,\u001b[0m\u001b[1;33m\u001b[0m\u001b[1;33m\u001b[0m\u001b[0m\n\u001b[0;32m    224\u001b[0m             \u001b[1;34m\"r\"\u001b[0m\u001b[1;33m,\u001b[0m\u001b[1;33m\u001b[0m\u001b[1;33m\u001b[0m\u001b[0m\n",
      "\u001b[1;32m~\\Anaconda3\\lib\\site-packages\\pandas\\io\\common.py\u001b[0m in \u001b[0;36mget_handle\u001b[1;34m(path_or_buf, mode, encoding, compression, memory_map, is_text, errors, storage_options)\u001b[0m\n\u001b[0;32m    700\u001b[0m         \u001b[1;32mif\u001b[0m \u001b[0mioargs\u001b[0m\u001b[1;33m.\u001b[0m\u001b[0mencoding\u001b[0m \u001b[1;32mand\u001b[0m \u001b[1;34m\"b\"\u001b[0m \u001b[1;32mnot\u001b[0m \u001b[1;32min\u001b[0m \u001b[0mioargs\u001b[0m\u001b[1;33m.\u001b[0m\u001b[0mmode\u001b[0m\u001b[1;33m:\u001b[0m\u001b[1;33m\u001b[0m\u001b[1;33m\u001b[0m\u001b[0m\n\u001b[0;32m    701\u001b[0m             \u001b[1;31m# Encoding\u001b[0m\u001b[1;33m\u001b[0m\u001b[1;33m\u001b[0m\u001b[0m\n\u001b[1;32m--> 702\u001b[1;33m             handle = open(\n\u001b[0m\u001b[0;32m    703\u001b[0m                 \u001b[0mhandle\u001b[0m\u001b[1;33m,\u001b[0m\u001b[1;33m\u001b[0m\u001b[1;33m\u001b[0m\u001b[0m\n\u001b[0;32m    704\u001b[0m                 \u001b[0mioargs\u001b[0m\u001b[1;33m.\u001b[0m\u001b[0mmode\u001b[0m\u001b[1;33m,\u001b[0m\u001b[1;33m\u001b[0m\u001b[1;33m\u001b[0m\u001b[0m\n",
      "\u001b[1;31mFileNotFoundError\u001b[0m: [Errno 2] No such file or directory: 'C:\\\\Users\\\\derek.castleman\\\\Desktop\\\\ILP\\\\ILP Spring\\\\NWEAWinter.csv'"
     ]
    }
   ],
   "source": [
    "# import winter 2021 NWEA scores\n",
    "nwea_winter = pd.read_csv(r\"C:\\Users\\derek.castleman\\Desktop\\ILP\\ILP Spring\\NWEAWinter.csv\")\n",
    "# import fall 2021 NWEA scores\n",
    "nwea_fall = pd.read_csv(r\"C:\\Users\\derek.castleman\\Desktop\\ILP\\ILP Spring\\NWEAFall.csv\")\n",
    "\n",
    "nwea_spring = pd.read_csv(r\"C:\\Users\\derek.castleman\\Desktop\\ILP\\ILP Spring\\Spring Projection Winter to Spring 2023.csv\")\n",
    "\n",
    "#dibs_boy = pd.read_csv(r\"C:\\Users\\derek.castleman\\Desktop\\ILP\\ILP Spring\\DIBELSBOY.csv\")\n",
    "\n",
    "#dibs_moy = pd.read_csv(r\"C:\\Users\\derek.castleman\\Desktop\\ILP\\ILP Spring\\MOYDIBELS.csv\")"
   ]
  },
  {
   "cell_type": "code",
   "execution_count": null,
   "metadata": {},
   "outputs": [],
   "source": [
    "# Use files generated from Fixing Grades for ILP Use in Secondary Final\n",
    "# If scores needed are required use Scores Needed file that is generated for current grades\n",
    "grades = pd.read_csv(r\"C:\\Users\\derek.castleman\\Desktop\\ILP\\ILP Spring\\Grade Final Q3 Final.csv\")\n",
    "fall_grades = pd.read_csv(r\"C:\\Users\\derek.castleman\\Desktop\\ILP\\ILP Spring\\Grades Semester One Secondary.csv\")\n",
    "\n",
    "# import student roster\n",
    "#LIST STU ENR STU.SC STU.RS STU.ID STU.NM STU.FN STU.LN STU.LF STU.GP ENR.YR ENR.SC ENR.ED ENR.LD ENR.GR ENR.ED\n",
    "roster = pd.read_excel(r\"C:\\Users\\derek.castleman\\Desktop\\ILP\\ILP Spring\\StudentRoster.xlsx\")\n",
    "roster = roster[(roster['Leave Date'].isnull()) & (roster['Year']==2022)].copy()\n",
    "roster = roster.drop_duplicates()\n",
    "\n",
    "# import list of SpED and teachers \n",
    "#LIST STU LN FN ID GR U1 U1? CSE.DI CAR CAR.PD CAR.TN TCH.TE CAR.DS CAR.DE IF CAR.PD = 0 from Patty **USE THIS ONE**\n",
    "#LIST STU TCH IDN CSE STU.ID STU.NM STU.GR TCH.TE CSE.DI CSE.ED CSE.XD IF CSE.DI > 0 AND CSE.XD = NULL\n",
    "sped = pd.read_excel(r\"C:\\Users\\derek.castleman\\Desktop\\ILP\\ILP Spring\\SPEDStudents.xlsx\")\n",
    "sped1 = sped.sort_values(['Student ID','Date Started']).copy()\n",
    "sped2 = sped.drop_duplicates(subset=['Student ID'], keep='first')\n",
    "sped2.loc[sped2[(sped2['Disability']>0) | (sped2['User1'].isin(['B','O','R','S']))].index, 'Student is SpED?'] = 'Student has an IEP'\n",
    "sped2.loc[sped2[(sped2['User1']=='5')].index, 'Student is SpED?'] = 'Student has 504 Plan'\n",
    "\n",
    "# import list of Teachers for students\n",
    "#LIST STU ID LN FN GR SEC MST.RM MST TCH.TE CRS CRS.CO MST.PD\n",
    "teachers = pd.read_excel(r\"C:\\Users\\derek.castleman\\Desktop\\ILP\\ILP Spring\\TeacherStudents.xlsx\")\n",
    "teachers_fall = pd.read_excel(r\"C:\\Users\\derek.castleman\\Desktop\\ILP\\ILP Spring\\Lost Hills ES\\TeachersandPeriodQuarter2.xlsx\")\n",
    "\n",
    "#LIST STU GBU GBS GBA GBK GBR TCH STU.ID STU.NM STU.GR STU.SC GBK.GN GBR.CD GBK.NM GBK.PD TCH.TE GBU.D1 GBU.CSC GBU.CMK GBA.AN GBA.AD GBA.DD GBA.GC GBS.MK GBA.MX IF GBS.MK = \" \" AND GBS.MX > 0 AND GBA.GC = 1 AND GBA.DD >= GBR.SD AND GBA.DD <= GBR.ED AND GBK.SC = TCH.SC\n",
    "missing_assignments = pd.read_excel(r\"C:\\Users\\derek.castleman\\Desktop\\ILP\\ILP Spring\\MissingAssignments.xlsx\")\n",
    "\n",
    "att_q3 = pd.read_csv(r\"C:\\Users\\derek.castleman\\Desktop\\ILP\\ILP Spring\\Q3 Attendance.csv\")\n",
    "att_ytd = pd.read_excel(r\"C:\\Users\\derek.castleman\\Desktop\\ILP\\ILP Spring\\Fixed_Attendance.xlsx\")\n",
    "\n",
    "#LIST AHS STU STU.SC STU.ID STU.GR AHS.YR AHS.TD AHS.TRU IF AHS.YR = 2022-2023\n",
    "truant = pd.read_excel(r\"C:\\Users\\derek.castleman\\Desktop\\ILP\\ILP Spring\\TruanciesandTardies.xlsx\")\n"
   ]
  },
  {
   "cell_type": "code",
   "execution_count": null,
   "metadata": {},
   "outputs": [],
   "source": [
    "# import historical grades\n",
    "#LIST STU HIS CRS STU.NM STU.GR STU.SC STU.ID HIS.SN HIS.CN HIS.MK HIS.GR HIS.TE HIS.YR HIS.CO HIS.CC his.rt CRS.CN CRS.CO CRS.E1\n",
    "#hg_grades = pd.read_excel(r\"C:\\Users\\derek.castleman\\Desktop\\ILP\\HitoricalGrades.xlsx\")\n"
   ]
  },
  {
   "cell_type": "code",
   "execution_count": null,
   "metadata": {},
   "outputs": [],
   "source": [
    "grades"
   ]
  },
  {
   "cell_type": "code",
   "execution_count": null,
   "metadata": {},
   "outputs": [],
   "source": [
    "grades_spring = grades\n",
    "grades_spring"
   ]
  },
  {
   "cell_type": "code",
   "execution_count": null,
   "metadata": {},
   "outputs": [],
   "source": [
    "#grades_spring = pd.merge(grades_spring, teachers, how='left', left_on=['Student ID', 'Name1', 'Pd', 'Grade'], right_on=['Student ID', 'Course title', 'Period', 'Grade'])\n",
    "#grades_spring"
   ]
  },
  {
   "cell_type": "code",
   "execution_count": null,
   "metadata": {},
   "outputs": [],
   "source": [
    "#grades_spring = grades_spring.drop_duplicates(subset=['Student ID', 'Pd', 'Name1', 'Term', 'Teacher name'], keep='last')\n",
    "#grades_spring = grades_spring.sort_values(['Student ID','Period'],ascending=True)\n",
    "#grades_spring"
   ]
  },
  {
   "cell_type": "code",
   "execution_count": null,
   "metadata": {},
   "outputs": [],
   "source": [
    "grades_spring.info()"
   ]
  },
  {
   "cell_type": "markdown",
   "metadata": {},
   "source": [
    "Check for any courses that are missing grades and see how they might be misnamed."
   ]
  },
  {
   "cell_type": "code",
   "execution_count": null,
   "metadata": {},
   "outputs": [],
   "source": [
    "import base64\n",
    "from IPython.display import HTML\n",
    "\n",
    "def create_download_link( df, title = \"Grades Check\", filename = \"Grades Check\"):\n",
    "    csv = df.to_csv()\n",
    "    b64 = base64.b64encode(csv.encode())\n",
    "    payload = b64.decode()\n",
    "    html = '<a download=\"{filename}\" href=\"data:text/csv;base64,{payload}\" target=\"_blank\">{title}</a>'\n",
    "    html = html.format(payload=payload,title=title,filename=filename)\n",
    "    return HTML(html)\n",
    "\n",
    "create_download_link(grades_spring)"
   ]
  },
  {
   "cell_type": "code",
   "execution_count": null,
   "metadata": {},
   "outputs": [],
   "source": [
    "grades_semester = fall_grades\n",
    "grades_semester"
   ]
  },
  {
   "cell_type": "code",
   "execution_count": null,
   "metadata": {},
   "outputs": [],
   "source": [
    "#teachers_fall"
   ]
  },
  {
   "cell_type": "code",
   "execution_count": null,
   "metadata": {},
   "outputs": [],
   "source": [
    "#grades_semester = pd.merge(grades_semester, teachers_fall, how='left', left_on=['Student ID', 'Name1', 'Pd', 'Grade'], right_on=['Student ID', 'Course title', 'Period', 'Grade'])\n",
    "#grades_semester = grades_semester.sort_values(['Student ID','Period'],ascending=True)\n",
    "#grades_semester"
   ]
  },
  {
   "cell_type": "code",
   "execution_count": null,
   "metadata": {},
   "outputs": [],
   "source": [
    "roster = roster[(roster['School'] == 1) | (roster['School'] ==2) | (roster['School'] ==7) | (roster['School'] == 8)]\n",
    "roster"
   ]
  },
  {
   "cell_type": "code",
   "execution_count": null,
   "metadata": {},
   "outputs": [],
   "source": [
    "#start_date.to_csv('~/Documents/WCPA/Progress Reports/Output/District Start Date by ID 02222022.csv', index=False)\n"
   ]
  },
  {
   "cell_type": "markdown",
   "metadata": {},
   "source": [
    "### SpED and teacher information"
   ]
  },
  {
   "cell_type": "code",
   "execution_count": null,
   "metadata": {},
   "outputs": [],
   "source": [
    "#Add in Sped and teacher information\n",
    "roster1 = roster.merge(sped2[['Student ID',\n",
    "                             'Student is SpED?',\n",
    "                             'Teacher name']],\n",
    "                       on='Student ID', how='left').reset_index()\n",
    "# Add in District Entry Date\n",
    "roster2 = roster1\n",
    "roster2.groupby('School')['Student ID'].count()\n"
   ]
  },
  {
   "cell_type": "code",
   "execution_count": null,
   "metadata": {},
   "outputs": [],
   "source": [
    "roster2"
   ]
  },
  {
   "cell_type": "code",
   "execution_count": null,
   "metadata": {},
   "outputs": [],
   "source": [
    "roster2 = roster2.drop(columns=['index', 'Res Schl', 'School1', 'Enter Date', 'Leave Date', 'Enter Date1'])\n",
    "roster2"
   ]
  },
  {
   "cell_type": "markdown",
   "metadata": {},
   "source": [
    "### NWEA"
   ]
  },
  {
   "cell_type": "code",
   "execution_count": null,
   "metadata": {},
   "outputs": [],
   "source": [
    "def clean_nwea(nwea_df, growth_col, term):\n",
    "    nwea_df1 = nwea_df[(nwea_df['GrowthMeasureYN']==True)&(nwea_fall['Course'].isin(['Reading','Math K-12']))].copy()\n",
    "\n",
    "    nwea_df1.loc[nwea_df1[nwea_df1['TestPercentile'] <= 20].index,'NWEA Category'] = 'Significantly Below Grade Level'\n",
    "\n",
    "    nwea_df1.loc[nwea_df1[(nwea_df1['TestPercentile'] > 20) &\n",
    "             (nwea_df1['TestPercentile'] <= 40)].index,'NWEA Category'] = 'Below Grade Level'\n",
    "\n",
    "    nwea_df1.loc[nwea_df1[(nwea_df1['TestPercentile'] > 40) &\n",
    "             (nwea_df1['TestPercentile'] <= 60)].index,'NWEA Category'] = 'At Grade Level'\n",
    "\n",
    "    nwea_df1.loc[nwea_df1[nwea_df1['TestPercentile'] > 60].index,'NWEA Category'] = 'Above Grade Level'\n",
    "\n",
    "    nwea_df1.loc[nwea_df1[nwea_df1['TestPercentile'].isnull()].index,'NWEA Category'] = 'No Percentile Assigned'\n",
    "    \n",
    "    nwea_final = nwea_df1.pivot(index=['StudentID'], columns='Subject',values=['NWEA Category',growth_col]).reset_index()\n",
    "\n",
    "    nwea_final.columns = ['StudentID',f\"NWEA {term} Language Arts\",\n",
    "                      f\"NWEA {term} Mathematics\",\n",
    "                      f\"NWEA {term} Growth Goal Met - Language Arts\",\n",
    "                      f\"NWEA {term} Growth Goal Met - Mathematics\"]\n",
    "    return nwea_final\n",
    "\n",
    "#nwea_winter_clean = clean_nwea(nwea_winter,'FallToWinterMetProjectedGrowth','Winter 2021')\n",
    "nwea_fall_clean = clean_nwea(nwea_fall,'FallToFallMetProjectedGrowth','Fall 2022')\n",
    "#nwea_final = nwea_winter_clean.merge(nwea_fall_clean[['StudentID',\n",
    "                                                      #'NWEA Fall 2021 Language Arts',\n",
    "                                                      #'NWEA Fall 2021 Mathematics']], on='StudentID', how='outer')"
   ]
  },
  {
   "cell_type": "code",
   "execution_count": null,
   "metadata": {},
   "outputs": [],
   "source": [
    "nwea_fall_clean"
   ]
  },
  {
   "cell_type": "code",
   "execution_count": null,
   "metadata": {},
   "outputs": [],
   "source": [
    "nwea_fall_clean.info()"
   ]
  },
  {
   "cell_type": "code",
   "execution_count": null,
   "metadata": {},
   "outputs": [],
   "source": [
    "nwea_fall_clean[:2]\n"
   ]
  },
  {
   "cell_type": "code",
   "execution_count": null,
   "metadata": {},
   "outputs": [],
   "source": [
    "def clean_nwea(nwea_df, growth_col, term):\n",
    "    nwea_df1 = nwea_df[(nwea_df['GrowthMeasureYN']==True)&(nwea_winter['Course'].isin(['Reading','Math K-12']))].copy()\n",
    "\n",
    "    nwea_df1.loc[nwea_df1[nwea_df1['TestPercentile'] <= 20].index,'NWEA Category'] = 'Significantly Below Grade Level'\n",
    "\n",
    "    nwea_df1.loc[nwea_df1[(nwea_df1['TestPercentile'] > 20) &\n",
    "             (nwea_df1['TestPercentile'] <= 40)].index,'NWEA Category'] = 'Below Grade Level'\n",
    "\n",
    "    nwea_df1.loc[nwea_df1[(nwea_df1['TestPercentile'] > 40) &\n",
    "             (nwea_df1['TestPercentile'] <= 60)].index,'NWEA Category'] = 'At Grade Level'\n",
    "\n",
    "    nwea_df1.loc[nwea_df1[nwea_df1['TestPercentile'] > 60].index,'NWEA Category'] = 'Above Grade Level'\n",
    "\n",
    "    nwea_df1.loc[nwea_df1[nwea_df1['TestPercentile'].isnull()].index,'NWEA Category'] = 'No Percentile Assigned'\n",
    "    \n",
    "    nwea_final = nwea_df1.pivot(index=['StudentID'], columns='Subject',values=['NWEA Category',growth_col]).reset_index()\n",
    "\n",
    "    nwea_final.columns = ['StudentID',f\"NWEA {term} Language Arts\",\n",
    "                      f\"NWEA {term} Mathematics\",\n",
    "                      f\"NWEA {term} Growth Goal Met - Language Arts\",\n",
    "                      f\"NWEA {term} Growth Goal Met - Mathematics\"]\n",
    "    return nwea_final\n",
    "\n",
    "#nwea_winter_clean = clean_nwea(nwea_winter,'FallToWinterMetProjectedGrowth','Winter 2021')\n",
    "nwea_winter_clean = clean_nwea(nwea_winter,'FallToWinterMetProjectedGrowth', 'Winter 2022')\n",
    "#nwea_final = nwea_winter_clean.merge(nwea_fall_clean[['StudentID',\n",
    "                                                      #'NWEA Fall 2021 Language Arts',\n",
    "                                                      #'NWEA Fall 2021 Mathematics']], on='StudentID', how='outer')"
   ]
  },
  {
   "cell_type": "code",
   "execution_count": null,
   "metadata": {},
   "outputs": [],
   "source": [
    "nwea_winter_clean"
   ]
  },
  {
   "cell_type": "code",
   "execution_count": null,
   "metadata": {},
   "outputs": [],
   "source": [
    "nwea_final = pd.merge(nwea_fall_clean, nwea_winter_clean, how='outer', on='StudentID')\n",
    "nwea_final"
   ]
  },
  {
   "cell_type": "code",
   "execution_count": null,
   "metadata": {},
   "outputs": [],
   "source": [
    "roster2 = pd.merge(roster2, nwea_final, how='left', left_on='Student ID', right_on='StudentID')\n",
    "roster2"
   ]
  },
  {
   "cell_type": "code",
   "execution_count": null,
   "metadata": {},
   "outputs": [],
   "source": [
    "import base64\n",
    "from IPython.display import HTML\n",
    "\n",
    "def create_download_link( df, title = \"Delano HS Assessments\", filename = \"Delano HS Assessments\"):\n",
    "    csv = df.to_csv()\n",
    "    b64 = base64.b64encode(csv.encode())\n",
    "    payload = b64.decode()\n",
    "    html = '<a download=\"{filename}\" href=\"data:text/csv;base64,{payload}\" target=\"_blank\">{title}</a>'\n",
    "    html = html.format(payload=payload,title=title,filename=filename)\n",
    "    return HTML(html)\n",
    "\n",
    "create_download_link(roster2)"
   ]
  },
  {
   "cell_type": "markdown",
   "metadata": {},
   "source": [
    "### Attendance"
   ]
  },
  {
   "cell_type": "code",
   "execution_count": null,
   "metadata": {},
   "outputs": [],
   "source": [
    "att_q3"
   ]
  },
  {
   "cell_type": "code",
   "execution_count": null,
   "metadata": {},
   "outputs": [],
   "source": [
    "att_q3['Q3 Attendance'] = att_q3['Q3 % Attendance by Student'] *100\n",
    "att_q3 = att_q3.round({'Q3 Attendance': 0})\n",
    "att_q3"
   ]
  },
  {
   "cell_type": "code",
   "execution_count": null,
   "metadata": {},
   "outputs": [],
   "source": [
    "final_q3 = att_q3[['Student ID', 'Q3 Attendance', 'Q3 Unexcused Absences']]\n",
    "final_q3"
   ]
  },
  {
   "cell_type": "code",
   "execution_count": null,
   "metadata": {},
   "outputs": [],
   "source": [
    "att_ytd['% Attendance by Student'] = att_ytd['Present'] / att_ytd['Enrolled']\n",
    "att_ytd"
   ]
  },
  {
   "cell_type": "code",
   "execution_count": null,
   "metadata": {},
   "outputs": [],
   "source": [
    "att_ytd['YTD Attendance'] = att_ytd['% Attendance by Student'] *100\n",
    "att_ytd = att_ytd.round({'YTD Attendance': 0})\n",
    "att_ytd"
   ]
  },
  {
   "cell_type": "code",
   "execution_count": null,
   "metadata": {},
   "outputs": [],
   "source": [
    "final_ytd = att_ytd[['Student ID', 'YTD Attendance', 'Unexcused']]\n",
    "final_ytd"
   ]
  },
  {
   "cell_type": "code",
   "execution_count": null,
   "metadata": {},
   "outputs": [],
   "source": [
    "att = pd.merge(final_q3, final_ytd, how='outer', on='Student ID')\n",
    "att"
   ]
  },
  {
   "cell_type": "markdown",
   "metadata": {},
   "source": [
    "### Missing Assignments"
   ]
  },
  {
   "cell_type": "code",
   "execution_count": null,
   "metadata": {},
   "outputs": [],
   "source": [
    "ma  = missing_assignments\n",
    "\n",
    "ma\n"
   ]
  },
  {
   "cell_type": "code",
   "execution_count": null,
   "metadata": {},
   "outputs": [],
   "source": [
    "ma['Missing Assignments'] = 1\n",
    "ma"
   ]
  },
  {
   "cell_type": "code",
   "execution_count": null,
   "metadata": {},
   "outputs": [],
   "source": [
    "ma2 = ma.groupby(by=['Student ID'])['Missing Assignments'].sum().reset_index()\n",
    "ma2"
   ]
  },
  {
   "cell_type": "code",
   "execution_count": null,
   "metadata": {},
   "outputs": [],
   "source": [
    "roster2 = pd.merge(roster2, ma2, how='left', on='Student ID')\n",
    "roster2"
   ]
  },
  {
   "cell_type": "code",
   "execution_count": null,
   "metadata": {},
   "outputs": [],
   "source": [
    "roster2['Missing Assignments'] = roster2['Missing Assignments'].fillna(0)\n",
    "roster2"
   ]
  },
  {
   "cell_type": "markdown",
   "metadata": {},
   "source": [
    "## Tardies and Truancies"
   ]
  },
  {
   "cell_type": "code",
   "execution_count": null,
   "metadata": {},
   "outputs": [],
   "source": [
    "truant"
   ]
  },
  {
   "cell_type": "code",
   "execution_count": null,
   "metadata": {},
   "outputs": [],
   "source": [
    "truant = truant.groupby(by=['Student ID'])['Tardies', 'Days of Truancy'].sum().reset_index()\n",
    "truant"
   ]
  },
  {
   "cell_type": "code",
   "execution_count": null,
   "metadata": {},
   "outputs": [],
   "source": [
    "att = pd.merge(att, truant, on='Student ID', how='outer')\n",
    "att"
   ]
  },
  {
   "cell_type": "code",
   "execution_count": null,
   "metadata": {},
   "outputs": [],
   "source": [
    "roster2 = pd.merge(roster2, att, how='left', on='Student ID')\n",
    "roster2"
   ]
  },
  {
   "cell_type": "code",
   "execution_count": null,
   "metadata": {},
   "outputs": [],
   "source": [
    "roster2 = pd.merge(roster2, ma2, how='left', on='Student ID')\n",
    "roster2"
   ]
  },
  {
   "cell_type": "code",
   "execution_count": null,
   "metadata": {},
   "outputs": [],
   "source": [
    "import base64\n",
    "from IPython.display import HTML\n",
    "\n",
    "def create_download_link( df, title = \"Delano HS Attendance\", filename = \"Delano HS Attendance\"):\n",
    "    csv = df.to_csv()\n",
    "    b64 = base64.b64encode(csv.encode())\n",
    "    payload = b64.decode()\n",
    "    html = '<a download=\"{filename}\" href=\"data:text/csv;base64,{payload}\" target=\"_blank\">{title}</a>'\n",
    "    html = html.format(payload=payload,title=title,filename=filename)\n",
    "    return HTML(html)\n",
    "\n",
    "create_download_link(roster2)"
   ]
  },
  {
   "cell_type": "markdown",
   "metadata": {},
   "source": [
    "### Current grades"
   ]
  },
  {
   "cell_type": "code",
   "execution_count": null,
   "metadata": {},
   "outputs": [],
   "source": [
    "# Reformat Grades data - need to use non-historical pull to create Spring courses\n",
    "\n",
    "grades = grades_spring[grades_spring['Status']!='I']\n",
    "\n",
    "grades = grades.drop_duplicates(subset=['Student ID','Term','Name1'])\n",
    "\n",
    "grades_sorted = grades.sort_values(['Student ID','Term',\"Pd\"])\n",
    "\n",
    "grades_sorted['Course Number'] = grades_sorted.groupby(['Student ID']).cumcount()+1\n"
   ]
  },
  {
   "cell_type": "code",
   "execution_count": null,
   "metadata": {},
   "outputs": [],
   "source": [
    "grades_sorted"
   ]
  },
  {
   "cell_type": "markdown",
   "metadata": {},
   "source": [
    "### Current grades"
   ]
  },
  {
   "cell_type": "code",
   "execution_count": null,
   "metadata": {},
   "outputs": [],
   "source": [
    "grades = grades_spring\n"
   ]
  },
  {
   "cell_type": "code",
   "execution_count": null,
   "metadata": {},
   "outputs": [],
   "source": [
    "grades.info()\n"
   ]
  },
  {
   "cell_type": "code",
   "execution_count": null,
   "metadata": {},
   "outputs": [],
   "source": [
    "grades"
   ]
  },
  {
   "cell_type": "code",
   "execution_count": null,
   "metadata": {},
   "outputs": [],
   "source": [
    "grades['Course Number'] = grades.groupby(['Student ID']).cumcount()+1\n",
    "\n",
    "grades_courses = grades.pivot(index=['Student ID'],\n",
    "                                      columns='Course Number',\n",
    "                                      values='Course title').reset_index()\n",
    "grades_grades = grades.pivot(index=['Student ID'],\n",
    "                                      columns='Course Number',\n",
    "                                      values='Mark4').reset_index()\n",
    "grades_teachers = grades.pivot(index=['Student ID'],\n",
    "                                      columns='Course Number',\n",
    "                                      values='Teacher name').reset_index()\n",
    "grades_scores = grades.pivot(index=['Student ID'],\n",
    "                                      columns='Course Number',\n",
    "                                      values='Score needed').reset_index()\n",
    "\n",
    "grades_courses_name = {1:'Quarter 3 Course 1',\n",
    "                 2:'Quarter 3 Course 2',\n",
    "                 3:'Quarter 3 Course 3',\n",
    "                 4:'Quarter 3 Course 4',\n",
    "                 5:'Quarter 3 Course 5',\n",
    "                 6:'Quarter 3 Course 6',\n",
    "                 7:'Quarter 3 Course 7',\n",
    "                 8:'Quarter 3 Course 8',\n",
    "                 9:'Quarter 3 Course 9',\n",
    "                     10:'Quarter 3 Course 10'}\n",
    "\n",
    "grades_grades_name = {1:'Quarter 3 Course 1 Grade',\n",
    "                 2:'Quarter 3 Course 2 Grade',\n",
    "                 3:'Quarter 3 Course 3 Grade',\n",
    "                 4:'Quarter 3 Course 4 Grade',\n",
    "                 5:'Quarter 3 Course 5 Grade',\n",
    "                 6:'Quarter 3 Course 6 Grade',\n",
    "                 7:'Quarter 3 Course 7 Grade',\n",
    "                 8:'Quarter 3 Course 8 Grade',\n",
    "                 9:'Quarter 3 Course 9 Grade',\n",
    "                    10:'Quarter 3 Course 10 Grade'}\n",
    "\n",
    "grades_teachers_name = {1:'Quarter 3 Course 1 Teacher',\n",
    "                 2:'Quarter 3 Course 2 Teacher',\n",
    "                 3:'Quarter 3 Course 3 Teacher',\n",
    "                 4:'Quarter 3 Course 4 Teacher',\n",
    "                 5:'Quarter 3 Course 5 Teacher',\n",
    "                 6:'Quarter 3 Course 6 Teacher',\n",
    "                 7:'Quarter 3 Course 7 Teacher',\n",
    "                 8:'Quarter 3 Course 8 Teacher',\n",
    "                 9:'Quarter 3 Course 9 Teacher',\n",
    "                      10:'Quarter 3 Course 10 Teacher'}\n",
    "\n",
    "grades_scores_name = {1:'Quarter 3 Course 1 Score Needed',\n",
    "                 2:'Quarter 3 Course 2 Score Needed',\n",
    "                 3:'Quarter 3 Course 3 Score Needed',\n",
    "                 4:'Quarter 3 Course 4 Score Needed',\n",
    "                 5:'Quarter 3 Course 5 Score Needed',\n",
    "                 6:'Quarter 3 Course 6 Score Needed',\n",
    "                 7:'Quarter 3 Course 7 Score Needed',\n",
    "                 8:'Quarter 3 Course 8 Score Needed',\n",
    "                 9:'Quarter 3 Course 9 Score Needed',\n",
    "                      10:'Quarter 3 Course 10 Score Needed'}\n",
    "\n",
    "grades_courses.rename(columns=grades_courses_name, inplace=True)\n",
    "grades_grades.rename(columns=grades_grades_name, inplace=True)\n",
    "grades_teachers.rename(columns=grades_teachers_name, inplace=True)\n",
    "grades_scores.rename(columns=grades_scores_name, inplace=True)"
   ]
  },
  {
   "cell_type": "code",
   "execution_count": null,
   "metadata": {},
   "outputs": [],
   "source": [
    "grades_courses"
   ]
  },
  {
   "cell_type": "code",
   "execution_count": null,
   "metadata": {},
   "outputs": [],
   "source": [
    "grades_grades"
   ]
  },
  {
   "cell_type": "code",
   "execution_count": null,
   "metadata": {},
   "outputs": [],
   "source": [
    "grades_teachers"
   ]
  },
  {
   "cell_type": "code",
   "execution_count": null,
   "metadata": {},
   "outputs": [],
   "source": [
    "grades_scores"
   ]
  },
  {
   "cell_type": "code",
   "execution_count": null,
   "metadata": {},
   "outputs": [],
   "source": [
    "merge_one = pd.merge(grades_courses, grades_grades, how = 'outer', on = 'Student ID')\n",
    "merge_one"
   ]
  },
  {
   "cell_type": "code",
   "execution_count": null,
   "metadata": {},
   "outputs": [],
   "source": [
    "merge_two = pd.merge(merge_one, grades_teachers, how = 'outer', on = 'Student ID')\n",
    "merge_two"
   ]
  },
  {
   "cell_type": "code",
   "execution_count": null,
   "metadata": {},
   "outputs": [],
   "source": [
    "grades_final = pd.merge(merge_two, grades_scores, how = 'outer', on = 'Student ID')\n",
    "grades_final"
   ]
  },
  {
   "cell_type": "code",
   "execution_count": null,
   "metadata": {},
   "outputs": [],
   "source": [
    "grades = grades_semester\n"
   ]
  },
  {
   "cell_type": "code",
   "execution_count": null,
   "metadata": {},
   "outputs": [],
   "source": [
    "grades.info()\n"
   ]
  },
  {
   "cell_type": "code",
   "execution_count": null,
   "metadata": {},
   "outputs": [],
   "source": [
    "grades"
   ]
  },
  {
   "cell_type": "code",
   "execution_count": null,
   "metadata": {},
   "outputs": [],
   "source": [
    "grades['Course Number'] = grades.groupby(['Student ID']).cumcount()+1\n",
    "\n",
    "grades_courses = grades.pivot(index=['Student ID'],\n",
    "                                      columns='Course Number',\n",
    "                                      values='Course title').reset_index()\n",
    "grades_grades = grades.pivot(index=['Student ID'],\n",
    "                                      columns='Course Number',\n",
    "                                      values='Mark').reset_index()\n",
    "grades_teachers = grades.pivot(index=['Student ID'],\n",
    "                                      columns='Course Number',\n",
    "                                      values='Teacher name').reset_index()\n",
    "\n",
    "grades_courses_name = {1:'Semester 1 Course 1',\n",
    "                 2:'Semester 1 Course 2',\n",
    "                 3:'Semester 1 Course 3',\n",
    "                 4:'Semester 1 Course 4',\n",
    "                 5:'Semester 1 Course 5',\n",
    "                 6:'Semester 1 Course 6',\n",
    "                 7:'Semester 1 Course 7',\n",
    "                 8:'Semester 1 Course 8',\n",
    "                 9:'Semester 1 Course 9',\n",
    "                     10:'Semester 1 Course 10'}\n",
    "\n",
    "grades_grades_name = {1:'Semester 1 Course 1 Grade',\n",
    "                 2:'Semester 1 Course 2 Grade',\n",
    "                 3:'Semester 1 Course 3 Grade',\n",
    "                 4:'Semester 1 Course 4 Grade',\n",
    "                 5:'Semester 1 Course 5 Grade',\n",
    "                 6:'Semester 1 Course 6 Grade',\n",
    "                 7:'Semester 1 Course 7 Grade',\n",
    "                 8:'Semester 1 Course 8 Grade',\n",
    "                 9:'Semester 1 Course 9 Grade',\n",
    "                    10:'Semester 1 Course 10 Grade'}\n",
    "\n",
    "grades_teachers_name = {1:'Semester 1 Course 1 Teacher',\n",
    "                 2:'Semester 1 Course 2 Teacher',\n",
    "                 3:'Semester 1 Course 3 Teacher',\n",
    "                 4:'Semester 1 Course 4 Teacher',\n",
    "                 5:'Semester 1 Course 5 Teacher',\n",
    "                 6:'Semester 1 Course 6 Teacher',\n",
    "                 7:'Semester 1 Course 7 Teacher',\n",
    "                 8:'Semester 1 Course 8 Teacher',\n",
    "                 9:'Semester 1 Course 9 Teacher',\n",
    "                      10:'Semester 1 Course 10 Teacher'}\n",
    "\n",
    "grades_courses.rename(columns=grades_courses_name, inplace=True)\n",
    "grades_grades.rename(columns=grades_grades_name, inplace=True)\n",
    "grades_teachers.rename(columns=grades_teachers_name, inplace=True)"
   ]
  },
  {
   "cell_type": "code",
   "execution_count": null,
   "metadata": {},
   "outputs": [],
   "source": [
    "grades_courses"
   ]
  },
  {
   "cell_type": "code",
   "execution_count": null,
   "metadata": {},
   "outputs": [],
   "source": [
    "grades_grades"
   ]
  },
  {
   "cell_type": "code",
   "execution_count": null,
   "metadata": {},
   "outputs": [],
   "source": [
    "grades_teachers"
   ]
  },
  {
   "cell_type": "code",
   "execution_count": null,
   "metadata": {},
   "outputs": [],
   "source": [
    "semester_one = pd.merge(grades_courses, grades_grades, how = 'outer', on = 'Student ID')\n",
    "semester_one"
   ]
  },
  {
   "cell_type": "code",
   "execution_count": null,
   "metadata": {},
   "outputs": [],
   "source": [
    "semester_one = pd.merge(semester_one, grades_teachers, how = 'outer', on = 'Student ID')\n",
    "semester_one"
   ]
  },
  {
   "cell_type": "code",
   "execution_count": null,
   "metadata": {},
   "outputs": [],
   "source": [
    "grades_combined = pd.merge(grades_final, semester_one, how='outer', on='Student ID')\n",
    "grades_combined"
   ]
  },
  {
   "cell_type": "code",
   "execution_count": null,
   "metadata": {},
   "outputs": [],
   "source": [
    "roster2"
   ]
  },
  {
   "cell_type": "code",
   "execution_count": null,
   "metadata": {},
   "outputs": [],
   "source": [
    "final = pd.merge(roster2, grades_combined, how='left', on='Student ID')\n",
    "final"
   ]
  },
  {
   "cell_type": "code",
   "execution_count": null,
   "metadata": {},
   "outputs": [],
   "source": [
    "final.info()"
   ]
  },
  {
   "cell_type": "code",
   "execution_count": null,
   "metadata": {},
   "outputs": [],
   "source": [
    "import base64\n",
    "from IPython.display import HTML\n",
    "\n",
    "def create_download_link( df, title = \"Secondary Final Grades ILP Final\", filename = \"Secondary Final Grades ILP Final\"):\n",
    "    csv = df.to_csv()\n",
    "    b64 = base64.b64encode(csv.encode())\n",
    "    payload = b64.decode()\n",
    "    html = '<a download=\"{filename}\" href=\"data:text/csv;base64,{payload}\" target=\"_blank\">{title}</a>'\n",
    "    html = html.format(payload=payload,title=title,filename=filename)\n",
    "    return HTML(html)\n",
    "\n",
    "create_download_link(final)"
   ]
  },
  {
   "cell_type": "code",
   "execution_count": null,
   "metadata": {},
   "outputs": [],
   "source": []
  },
  {
   "cell_type": "code",
   "execution_count": null,
   "metadata": {},
   "outputs": [],
   "source": []
  }
 ],
 "metadata": {
  "kernelspec": {
   "display_name": "Python 3 (ipykernel)",
   "language": "python",
   "name": "python3"
  },
  "language_info": {
   "codemirror_mode": {
    "name": "ipython",
    "version": 3
   },
   "file_extension": ".py",
   "mimetype": "text/x-python",
   "name": "python",
   "nbconvert_exporter": "python",
   "pygments_lexer": "ipython3",
   "version": "3.9.7"
  }
 },
 "nbformat": 4,
 "nbformat_minor": 4
}
