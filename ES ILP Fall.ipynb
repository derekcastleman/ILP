{
 "cells": [
  {
   "cell_type": "code",
   "execution_count": null,
   "metadata": {},
   "outputs": [],
   "source": [
    "import pandas as pd\n",
    "import numpy as np\n",
    "\n",
    "import os\n",
    "# CHANGE THIS DIRECTORY\n",
    "#os.chdir('/Users/una.lee/The Wonderful Company/Wonderful Education Data - DataTeam/Scripts/')"
   ]
  },
  {
   "cell_type": "code",
   "execution_count": null,
   "metadata": {},
   "outputs": [],
   "source": [
    "import pandas as pd\n",
    "import numpy as np"
   ]
  },
  {
   "cell_type": "code",
   "execution_count": null,
   "metadata": {},
   "outputs": [],
   "source": [
    "# import winter 2021 NWEA scores\n",
    "#nwea_winter = pd.read_csv(r\"C:\\Users\\derek.castleman\\Desktop\\ILP\\ILP Spring\\NWEAWinter.csv\")\n",
    "# import fall 2021 NWEA scores\n",
    "nwea_fall = pd.read_csv(r\"C:\\Users\\derek.castleman\\Desktop\\ILP\\2024-2025\\Fall\\Tests\\AssessmentResults.csv\")\n",
    "\n",
    "dibs_boy = pd.read_csv(r\"C:\\Users\\derek.castleman\\Desktop\\ILP\\2024-2025\\Fall\\Tests\\StudentSummary.csv\")\n",
    "\n",
    "#dibs_moy = pd.read_csv(r\"C:\\Users\\derek.castleman\\Desktop\\ILP\\ILP Spring\\MOYDIBELS.csv\")"
   ]
  },
  {
   "cell_type": "code",
   "execution_count": null,
   "metadata": {},
   "outputs": [],
   "source": [
    "# import student grades from Fall and Spring - CURRENT YEAR GRADES\n",
    "#LIST STU GBU GBK GBR STU.SC STU.ID STU.NM STU.GR GBK.PD GBK.NM GBR.CD GBU.CMK GBU.TG GBU.CSC\n",
    "grades = pd.read_csv(r\"C:\\Users\\derek.castleman\\Desktop\\ILP\\2024-2025\\Fall\\ES\\Current Grades.csv\")\n",
    "\n",
    "# import student roster\n",
    "#LIST STU ENR STU.SC STU.RS STU.ID STU.NM STU.FN STU.LN STU.LF STU.GP ENR.YR ENR.SC ENR.ED ENR.LD ENR.GR ENR.ED\n",
    "roster = pd.read_excel(r\"C:\\Users\\derek.castleman\\Desktop\\ILP\\2024-2025\\Fall\\Roster.xlsx\")\n",
    "roster = roster[(roster['Leave Date'].isnull()) & (roster['Year']==2024)].copy()\n",
    "roster = roster.drop_duplicates()\n",
    "\n",
    "# import list of SpED and teachers \n",
    "#LIST STU LN FN ID GR U1 U1? CSE.DI CAR CAR.PD CAR.TN TCH.TE CAR.DS CAR.DE IF CAR.PD = 0 from Patty **USE THIS ONE**\n",
    "#LIST STU TCH IDN CSE STU.ID STU.NM STU.GR TCH.TE CSE.DI CSE.ED CSE.XD IF CSE.DI > 0 AND CSE.XD = NULL\n",
    "sped = pd.read_excel(r\"C:\\Users\\derek.castleman\\Desktop\\ILP\\2024-2025\\Fall\\SPED.xlsx\")\n",
    "sped1 = sped.sort_values(['Student ID','Date Started']).copy()\n",
    "sped2 = sped.drop_duplicates(subset=['Student ID'], keep='first')\n",
    "sped2.loc[sped2[(sped2['Disability']>0) | (sped2['User1'].isin(['B','O','R','S']))].index, 'Student is SpED?'] = 'Student has an IEP'\n",
    "sped2.loc[sped2[(sped2['User1']=='5')].index, 'Student is SpED?'] = 'Student has 504 Plan'\n",
    "\n",
    "# import list of Teachers for students\n",
    "#LIST STU ID LN FN GR SEC MST.RM MST TCH.TE CRS CRS.CO MST.PD\n",
    "#teachers = pd.read_excel(r\"C:\\Users\\derek.castleman\\Desktop\\ILP\\ILP Spring\\StudentTeachers.xlsx\")\n",
    "\n",
    "#LIST STU GBU GBS GBA GBK GBR TCH STU.ID STU.NM STU.GR STU.SC GBK.GN GBR.CD GBK.NM GBK.PD TCH.TE GBU.D1 GBU.CSC GBU.CMK GBA.AN GBA.AD GBA.DD GBA.GC GBS.MK GBA.MX IF GBS.MK = \" \" AND GBS.MX > 0 AND GBA.GC = 1 AND GBA.DD >= GBR.SD AND GBA.DD <= GBR.ED AND GBK.SC = TCH.SC\n",
    "#missing_assignments = pd.read_excel(r\"C:\\Users\\derek.castleman\\Desktop\\MonthlyDataPull\\February2023\\MissingAssignments.xlsx\")\n",
    "\n",
    "att = pd.read_excel(r\"C:\\Users\\derek.castleman\\Desktop\\ILP\\2024-2025\\Fall\\Attendance.xlsx\")\n",
    "\n",
    "#LIST AHS STU STU.SC STU.ID STU.GR AHS.YR AHS.TD AHS.TRU IF AHS.YR = 2022-2023\n",
    "truant = pd.read_excel(r\"C:\\Users\\derek.castleman\\Desktop\\ILP\\2024-2025\\Fall\\Truant.xlsx\")\n"
   ]
  },
  {
   "cell_type": "code",
   "execution_count": null,
   "metadata": {},
   "outputs": [],
   "source": [
    "# import historical grades\n",
    "#LIST STU HIS CRS STU.NM STU.GR STU.SC STU.ID HIS.SN HIS.CN HIS.MK HIS.GR HIS.TE HIS.YR HIS.CO HIS.CC his.rt CRS.CN CRS.CO CRS.E1\n",
    "#hg_grades = pd.read_excel(r\"C:\\Users\\derek.castleman\\Desktop\\ILP\\HitoricalGrades.xlsx\")\n"
   ]
  },
  {
   "cell_type": "code",
   "execution_count": null,
   "metadata": {},
   "outputs": [],
   "source": [
    "grades"
   ]
  },
  {
   "cell_type": "markdown",
   "metadata": {},
   "source": [
    "Check for any courses that are missing grades and see how they might be misnamed."
   ]
  },
  {
   "cell_type": "code",
   "execution_count": null,
   "metadata": {},
   "outputs": [],
   "source": [
    "import base64\n",
    "from IPython.display import HTML\n",
    "\n",
    "def create_download_link( df, title = \"Grades Check\", filename = \"Grades Check\"):\n",
    "    csv = df.to_csv()\n",
    "    b64 = base64.b64encode(csv.encode())\n",
    "    payload = b64.decode()\n",
    "    html = '<a download=\"{filename}\" href=\"data:text/csv;base64,{payload}\" target=\"_blank\">{title}</a>'\n",
    "    html = html.format(payload=payload,title=title,filename=filename)\n",
    "    return HTML(html)\n",
    "\n",
    "create_download_link(grades)"
   ]
  },
  {
   "cell_type": "code",
   "execution_count": null,
   "metadata": {},
   "outputs": [],
   "source": [
    "#roster = roster.loc[roster['School'] == 4]\n",
    "#roster"
   ]
  },
  {
   "cell_type": "code",
   "execution_count": null,
   "metadata": {},
   "outputs": [],
   "source": [
    "#start_date.to_csv('~/Documents/WCPA/Progress Reports/Output/District Start Date by ID 02222022.csv', index=False)\n"
   ]
  },
  {
   "cell_type": "markdown",
   "metadata": {},
   "source": [
    "### SpED and teacher information"
   ]
  },
  {
   "cell_type": "code",
   "execution_count": null,
   "metadata": {},
   "outputs": [],
   "source": [
    "#Add in Sped and teacher information\n",
    "roster1 = roster.merge(sped2[['Student ID',\n",
    "                             'Student is SpED?',\n",
    "                             'Teacher name']],\n",
    "                       on='Student ID', how='left').reset_index()\n",
    "# Add in District Entry Date\n",
    "roster2 = roster1\n",
    "roster2.groupby('School')['Student ID'].count()\n"
   ]
  },
  {
   "cell_type": "code",
   "execution_count": null,
   "metadata": {},
   "outputs": [],
   "source": [
    "roster2"
   ]
  },
  {
   "cell_type": "code",
   "execution_count": null,
   "metadata": {},
   "outputs": [],
   "source": [
    "roster2 = roster2.drop(columns=['index', 'Res Schl', 'School1', 'Enter Date', 'Leave Date', 'Enter Date1'])\n",
    "roster2"
   ]
  },
  {
   "cell_type": "code",
   "execution_count": null,
   "metadata": {},
   "outputs": [],
   "source": [
    "#roster2 = roster2.loc[roster2['School'] == 4]\n",
    "#roster2"
   ]
  },
  {
   "cell_type": "markdown",
   "metadata": {},
   "source": [
    "### NWEA"
   ]
  },
  {
   "cell_type": "code",
   "execution_count": null,
   "metadata": {},
   "outputs": [],
   "source": [
    "# clean up NWEA - categorize scores based on percentiles\n",
    "def clean_nwea(nwea_df, growth_col, term):\n",
    "    nwea_df1 = nwea_df[(nwea_df['GrowthMeasureYN']==True)&(nwea_fall['Course'].isin(['Reading','Math K-12']))].copy()\n",
    "\n",
    "    nwea_df1.loc[nwea_df1[nwea_df1['TestPercentile'] <= 20].index,'NWEA Category'] = 'Significantly Below Grade Level'\n",
    "\n",
    "    nwea_df1.loc[nwea_df1[(nwea_df1['TestPercentile'] > 20) &\n",
    "             (nwea_df1['TestPercentile'] <= 40)].index,'NWEA Category'] = 'Below Grade Level'\n",
    "\n",
    "    nwea_df1.loc[nwea_df1[(nwea_df1['TestPercentile'] > 40) &\n",
    "             (nwea_df1['TestPercentile'] <= 60)].index,'NWEA Category'] = 'At Grade Level'\n",
    "\n",
    "    nwea_df1.loc[nwea_df1[nwea_df1['TestPercentile'] > 60].index,'NWEA Category'] = 'Above Grade Level'\n",
    "\n",
    "    nwea_df1.loc[nwea_df1[nwea_df1['TestPercentile'].isnull()].index,'NWEA Category'] = 'No Percentile Assigned'\n",
    "    \n",
    "    nwea_final = nwea_df1.pivot(index=['StudentID'], columns='Subject',values=['NWEA Category',growth_col]).reset_index()\n",
    "\n",
    "    nwea_final.columns = ['StudentID',f\"NWEA {term} Language Arts\",\n",
    "                      f\"NWEA {term} Mathematics\",\n",
    "                      f\"NWEA {term} Growth Goal Met - Language Arts\",\n",
    "                      f\"NWEA {term} Growth Goal Met - Mathematics\" ]\n",
    "    return nwea_final\n",
    "\n",
    "#nwea_winter_clean = clean_nwea(nwea_winter,'FallToWinterMetProjectedGrowth','Winter 2021')\n",
    "nwea_fall_clean = clean_nwea(nwea_fall,'FallToFallMetProjectedGrowth','Fall 2023')\n",
    "#nwea_final = nwea_winter_clean.merge(nwea_fall_clean[['StudentID',\n",
    "                                                      #'NWEA Fall 2021 Language Arts',\n",
    "                                                      #'NWEA Fall 2021 Mathematics']], on='StudentID', how='outer')"
   ]
  },
  {
   "cell_type": "code",
   "execution_count": null,
   "metadata": {},
   "outputs": [],
   "source": [
    "nwea_fall = nwea_fall_clean"
   ]
  },
  {
   "cell_type": "code",
   "execution_count": null,
   "metadata": {},
   "outputs": [],
   "source": [
    "nwea_fall.info()"
   ]
  },
  {
   "cell_type": "code",
   "execution_count": null,
   "metadata": {},
   "outputs": [],
   "source": [
    "nwea_fall[:2]\n"
   ]
  },
  {
   "cell_type": "code",
   "execution_count": null,
   "metadata": {},
   "outputs": [],
   "source": [
    "nwea_final = nwea_fall\n",
    "nwea_final"
   ]
  },
  {
   "cell_type": "code",
   "execution_count": null,
   "metadata": {},
   "outputs": [],
   "source": [
    "roster2 = pd.merge(roster2, nwea_final, how='left', left_on='Student ID', right_on='StudentID')\n",
    "roster2"
   ]
  },
  {
   "cell_type": "markdown",
   "metadata": {},
   "source": [
    "### Dibels"
   ]
  },
  {
   "cell_type": "code",
   "execution_count": null,
   "metadata": {},
   "outputs": [],
   "source": [
    "dibs = dibs_boy\n",
    "dibs"
   ]
  },
  {
   "cell_type": "code",
   "execution_count": null,
   "metadata": {},
   "outputs": [],
   "source": [
    "# Reformat Dibels data\n",
    "#Keep highest score from BOY or MOY - keep last\n",
    "dibs_sorted = dibs.sort_values(['Primary ID - Student ID (District ID)',\n",
    "                                'Benchmark Period',\n",
    "                                'Composite Score'])\n",
    "\n",
    "#Drop duplicate scores - keep highest\n",
    "dibs2 = dibs_sorted.drop_duplicates(subset=['Primary ID - Student ID (District ID)',\n",
    "                                            'Benchmark Period'],keep='last')\n",
    "#Check for duplicates\n",
    "dibs2[dibs2.duplicated(subset=['Primary ID - Student ID (District ID)',\n",
    "                               'Benchmark Period'],\n",
    "                       keep=False)][['Primary ID - Student ID (District ID)',\n",
    "                                     'Benchmark Period',\n",
    "                                     'Composite Level']]\n",
    "#Pivot scores\n",
    "#dibs_final = dibs2.pivot(index='Primary ID - Student ID (District ID)',\n",
    "            #columns='Benchmark Period',\n",
    "            #values='Composite Level').reset_index()\n",
    "#dibs_final.rename(columns={'BOY':'Dibels BOY Benchmark',\n",
    "                          #'MOY':'Dibels MOY Benchmark',\n",
    "                          #'Primary ID - Student ID (District ID)':'Student ID'}, \n",
    "        #inplace=True)\n",
    "dibs_final = dibs2[['Primary ID - Student ID (District ID)', 'Composite Level']]\n",
    "dibs_final = dibs_final.fillna('No Score')\n"
   ]
  },
  {
   "cell_type": "code",
   "execution_count": null,
   "metadata": {},
   "outputs": [],
   "source": [
    "dibs_boy = dibs_final\n",
    "dibs_boy"
   ]
  },
  {
   "cell_type": "code",
   "execution_count": null,
   "metadata": {},
   "outputs": [],
   "source": [
    "dibs_boy = dibs_boy.rename(columns = {'Primary ID - Student ID (District ID)':'Student ID', 'Composite Level': 'DIBELS Level'})\n",
    "dibs_boy"
   ]
  },
  {
   "cell_type": "code",
   "execution_count": null,
   "metadata": {},
   "outputs": [],
   "source": [
    "fix = pd.read_excel(r\"C:\\Users\\derek.castleman\\Desktop\\PrintQueryToExcel_20241010_101244_6411795.xlsx\")\n",
    "fix"
   ]
  },
  {
   "cell_type": "code",
   "execution_count": null,
   "metadata": {},
   "outputs": [],
   "source": [
    "fix = pd.merge(dibs_boy, fix, how='inner', left_on='Primary ID - Student ID (District ID)', right_on='State Student ID')\n",
    "fix"
   ]
  },
  {
   "cell_type": "code",
   "execution_count": null,
   "metadata": {},
   "outputs": [],
   "source": [
    "dibs_boy = fix[['Student ID', 'Composite Level']]\n",
    "dibs_boy"
   ]
  },
  {
   "cell_type": "code",
   "execution_count": null,
   "metadata": {},
   "outputs": [],
   "source": [
    "roster2 = pd.merge(roster2, dibs_boy, how='left', left_on='Student ID', right_on='Student ID')\n",
    "roster2"
   ]
  },
  {
   "cell_type": "code",
   "execution_count": null,
   "metadata": {},
   "outputs": [],
   "source": [
    "import base64\n",
    "from IPython.display import HTML\n",
    "\n",
    "def create_download_link( df, title = \"Delano ES Assessments\", filename = \"Delano ES Assessments\"):\n",
    "    csv = df.to_csv()\n",
    "    b64 = base64.b64encode(csv.encode())\n",
    "    payload = b64.decode()\n",
    "    html = '<a download=\"{filename}\" href=\"data:text/csv;base64,{payload}\" target=\"_blank\">{title}</a>'\n",
    "    html = html.format(payload=payload,title=title,filename=filename)\n",
    "    return HTML(html)\n",
    "\n",
    "create_download_link(roster2)"
   ]
  },
  {
   "cell_type": "markdown",
   "metadata": {},
   "source": [
    "### Attendance"
   ]
  },
  {
   "cell_type": "code",
   "execution_count": null,
   "metadata": {},
   "outputs": [],
   "source": [
    "att"
   ]
  },
  {
   "cell_type": "code",
   "execution_count": null,
   "metadata": {},
   "outputs": [],
   "source": [
    "att['Q1 Attendance'] = att['% Present'] *100\n",
    "att = att.round({'Q1 Attendance': 0})\n",
    "att"
   ]
  },
  {
   "cell_type": "code",
   "execution_count": null,
   "metadata": {},
   "outputs": [],
   "source": [
    "final_att = att[['Student ID', 'Q1 Attendance', 'Unexcused Absences']]\n",
    "final_att"
   ]
  },
  {
   "cell_type": "code",
   "execution_count": null,
   "metadata": {},
   "outputs": [],
   "source": [
    "att = final_att\n",
    "att"
   ]
  },
  {
   "cell_type": "markdown",
   "metadata": {},
   "source": [
    "### Missing Assignments"
   ]
  },
  {
   "cell_type": "code",
   "execution_count": null,
   "metadata": {},
   "outputs": [],
   "source": [
    "#ma  = missing_assignments\n",
    "\n",
    "#ma\n"
   ]
  },
  {
   "cell_type": "code",
   "execution_count": null,
   "metadata": {},
   "outputs": [],
   "source": [
    "#ma['Missing Assignments'] = 1\n",
    "#ma"
   ]
  },
  {
   "cell_type": "code",
   "execution_count": null,
   "metadata": {},
   "outputs": [],
   "source": [
    "#ma2 = ma.groupby(by=['Student ID'])['Missing Assignments'].sum().reset_index()\n",
    "#ma2"
   ]
  },
  {
   "cell_type": "markdown",
   "metadata": {},
   "source": [
    "## Tardies and Truancies"
   ]
  },
  {
   "cell_type": "code",
   "execution_count": null,
   "metadata": {},
   "outputs": [],
   "source": [
    "truant"
   ]
  },
  {
   "cell_type": "code",
   "execution_count": null,
   "metadata": {},
   "outputs": [],
   "source": [
    "truant = truant.groupby(by=['Student ID'])['Tardies', 'Days of Truancy'].sum().reset_index()\n",
    "truant"
   ]
  },
  {
   "cell_type": "code",
   "execution_count": null,
   "metadata": {},
   "outputs": [],
   "source": [
    "att = pd.merge(att, truant, on='Student ID', how='outer')\n",
    "att"
   ]
  },
  {
   "cell_type": "code",
   "execution_count": null,
   "metadata": {},
   "outputs": [],
   "source": [
    "roster2 = pd.merge(roster2, att, how='left', on='Student ID')\n",
    "roster2"
   ]
  },
  {
   "cell_type": "code",
   "execution_count": null,
   "metadata": {},
   "outputs": [],
   "source": [
    "import base64\n",
    "from IPython.display import HTML\n",
    "\n",
    "def create_download_link( df, title = \"Delano ES Attendance\", filename = \"Delano ES Attendance\"):\n",
    "    csv = df.to_csv()\n",
    "    b64 = base64.b64encode(csv.encode())\n",
    "    payload = b64.decode()\n",
    "    html = '<a download=\"{filename}\" href=\"data:text/csv;base64,{payload}\" target=\"_blank\">{title}</a>'\n",
    "    html = html.format(payload=payload,title=title,filename=filename)\n",
    "    return HTML(html)\n",
    "\n",
    "create_download_link(roster2)"
   ]
  },
  {
   "cell_type": "markdown",
   "metadata": {},
   "source": [
    "### Current grades"
   ]
  },
  {
   "cell_type": "markdown",
   "metadata": {},
   "source": [
    "### Current grades"
   ]
  },
  {
   "cell_type": "code",
   "execution_count": null,
   "metadata": {},
   "outputs": [],
   "source": [
    "grades\n"
   ]
  },
  {
   "cell_type": "code",
   "execution_count": null,
   "metadata": {},
   "outputs": [],
   "source": [
    "grades.info()\n"
   ]
  },
  {
   "cell_type": "code",
   "execution_count": null,
   "metadata": {},
   "outputs": [],
   "source": [
    "grades"
   ]
  },
  {
   "cell_type": "code",
   "execution_count": null,
   "metadata": {},
   "outputs": [],
   "source": [
    "grades['Course Number'] = grades.groupby(['Student ID']).cumcount()+1\n",
    "\n",
    "grades_courses = grades.pivot(index=['Student ID'],\n",
    "                                      columns='Course Number',\n",
    "                                      values='Course title').reset_index()\n",
    "grades_grades = grades.pivot(index=['Student ID'],\n",
    "                                      columns='Course Number',\n",
    "                                      values='Mark1').reset_index()\n",
    "grades_teachers = grades.pivot(index=['Student ID'],\n",
    "                                      columns='Course Number',\n",
    "                                      values='Teacher name').reset_index()\n",
    "\n",
    "grades_courses_name = {1:'Quarter 1 Course 1',\n",
    "                 2:'Quarter 1 Course 2',\n",
    "                 3:'Quarter 1 Course 3',\n",
    "                 4:'Quarter 1 Course 4',\n",
    "                 5:'Quarter 1 Course 5',\n",
    "                 6:'Quarter 1 Course 6',\n",
    "                 7:'Quarter 1 Course 7',\n",
    "                 8:'Quarter 1 Course 8',\n",
    "                 9:'Quarter 1 Course 9',\n",
    "                     10:'Quarter 1 Course 10'}\n",
    "\n",
    "grades_grades_name = {1:'Quarter 1 Course 1 Grade',\n",
    "                 2:'Quarter 1 Course 2 Grade',\n",
    "                 3:'Quarter 1 Course 3 Grade',\n",
    "                 4:'Quarter 1 Course 4 Grade',\n",
    "                 5:'Quarter 1 Course 5 Grade',\n",
    "                 6:'Quarter 1 Course 6 Grade',\n",
    "                 7:'Quarter 1 Course 7 Grade',\n",
    "                 8:'Quarter 1 Course 8 Grade',\n",
    "                 9:'Quarter 1 Course 9 Grade',\n",
    "                    10:'Quarter 1 Course 10 Grade'}\n",
    "\n",
    "grades_teachers_name = {1:'Quarter 1 Course 1 Teacher',\n",
    "                 2:'Quarter 1 Course 2 Teacher',\n",
    "                 3:'Quarter 1 Course 3 Teacher',\n",
    "                 4:'Quarter 1 Course 4 Teacher',\n",
    "                 5:'Quarter 1 Course 5 Teacher',\n",
    "                 6:'Quarter 1 Course 6 Teacher',\n",
    "                 7:'Quarter 1 Course 7 Teacher',\n",
    "                 8:'Quarter 1 Course 8 Teacher',\n",
    "                 9:'Quarter 1 Course 9 Teacher',\n",
    "                      10:'Quarter 1 Course 10 Teacher'}\n",
    "\n",
    "grades_courses.rename(columns=grades_courses_name, inplace=True)\n",
    "grades_grades.rename(columns=grades_grades_name, inplace=True)\n",
    "grades_teachers.rename(columns=grades_teachers_name, inplace=True)"
   ]
  },
  {
   "cell_type": "code",
   "execution_count": null,
   "metadata": {},
   "outputs": [],
   "source": [
    "grades_courses"
   ]
  },
  {
   "cell_type": "code",
   "execution_count": null,
   "metadata": {},
   "outputs": [],
   "source": [
    "grades_grades"
   ]
  },
  {
   "cell_type": "code",
   "execution_count": null,
   "metadata": {},
   "outputs": [],
   "source": [
    "grades_teachers"
   ]
  },
  {
   "cell_type": "code",
   "execution_count": null,
   "metadata": {},
   "outputs": [],
   "source": [
    "merge_one = pd.merge(grades_courses, grades_grades, how = 'outer', on = 'Student ID')\n",
    "merge_one"
   ]
  },
  {
   "cell_type": "code",
   "execution_count": null,
   "metadata": {},
   "outputs": [],
   "source": [
    "grades_final = pd.merge(merge_one, grades_teachers, how = 'outer', on = 'Student ID')\n",
    "grades_final"
   ]
  },
  {
   "cell_type": "code",
   "execution_count": null,
   "metadata": {},
   "outputs": [],
   "source": [
    "roster2"
   ]
  },
  {
   "cell_type": "code",
   "execution_count": null,
   "metadata": {},
   "outputs": [],
   "source": [
    "final = pd.merge(roster2, grades_final, how='left', on='Student ID')\n",
    "final"
   ]
  },
  {
   "cell_type": "code",
   "execution_count": null,
   "metadata": {},
   "outputs": [],
   "source": [
    "import base64\n",
    "from IPython.display import HTML\n",
    "\n",
    "def create_download_link( df, title = \"Delano ES Redone ILP\", filename = \"Delano ES Redone ILP\"):\n",
    "    csv = df.to_csv()\n",
    "    b64 = base64.b64encode(csv.encode())\n",
    "    payload = b64.decode()\n",
    "    html = '<a download=\"{filename}\" href=\"data:text/csv;base64,{payload}\" target=\"_blank\">{title}</a>'\n",
    "    html = html.format(payload=payload,title=title,filename=filename)\n",
    "    return HTML(html)\n",
    "\n",
    "create_download_link(final)"
   ]
  },
  {
   "cell_type": "code",
   "execution_count": null,
   "metadata": {},
   "outputs": [],
   "source": []
  }
 ],
 "metadata": {
  "kernelspec": {
   "display_name": "Python 3 (ipykernel)",
   "language": "python",
   "name": "python3"
  },
  "language_info": {
   "codemirror_mode": {
    "name": "ipython",
    "version": 3
   },
   "file_extension": ".py",
   "mimetype": "text/x-python",
   "name": "python",
   "nbconvert_exporter": "python",
   "pygments_lexer": "ipython3",
   "version": "3.9.7"
  }
 },
 "nbformat": 4,
 "nbformat_minor": 4
}
