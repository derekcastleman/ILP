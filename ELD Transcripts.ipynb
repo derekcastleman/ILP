{
 "cells": [
  {
   "cell_type": "markdown",
   "id": "28bef810",
   "metadata": {},
   "source": [
    "# Correcting ELD Transcripts\n",
    "\n",
    "Some of the students have A-G credit for classes that they took in middle school. The purpose of this code is to clean up transcript data removing the ELD courses that students took in middle school"
   ]
  },
  {
   "cell_type": "code",
   "execution_count": null,
   "id": "e112995d",
   "metadata": {},
   "outputs": [],
   "source": [
    "import numpy as np\n",
    "import pandas as pd"
   ]
  },
  {
   "cell_type": "code",
   "execution_count": null,
   "id": "b3b981a4",
   "metadata": {},
   "outputs": [],
   "source": [
    "# Uploading the transcripts\n",
    "transcripts = pd.read_excel(r\"C:\\Users\\derek.castleman\\Desktop\\ILP\\2023-2024\\Fall\\Data\\Transcripts.xlsx\")\n",
    "transcripts"
   ]
  },
  {
   "cell_type": "code",
   "execution_count": null,
   "id": "8b3b4a2c",
   "metadata": {},
   "outputs": [],
   "source": [
    "# Selecting only students that are in high school\n",
    "transcripts = transcripts[transcripts['Grade'] > 8]\n",
    "transcripts"
   ]
  },
  {
   "cell_type": "code",
   "execution_count": null,
   "id": "8cd87899",
   "metadata": {},
   "outputs": [],
   "source": [
    "# Selecting the courses of interest\n",
    "eld = transcripts[(transcripts['Course title'] == 'ELD 1') | (transcripts['Course title'] == 'ELD 2') | \n",
    "                     (transcripts['Course title'] == 'ELD 3')]\n",
    "eld"
   ]
  },
  {
   "cell_type": "code",
   "execution_count": null,
   "id": "4f154069",
   "metadata": {},
   "outputs": [],
   "source": [
    "# Selecting the rest of the courses\n",
    "non_eld = transcripts.loc[~((transcripts['Course title'] == 'ELD 1') | (transcripts['Course title'] == 'ELD 2') | \n",
    "                     (transcripts['Course title'] == 'ELD 3'))]\n",
    "non_eld"
   ]
  },
  {
   "cell_type": "code",
   "execution_count": null,
   "id": "ed219c08",
   "metadata": {},
   "outputs": [],
   "source": [
    "# Selecting ninth graders and non-ms courses\n",
    "ninth = eld[(eld['Grade'] == 9) & (eld['Year'] > 22)]\n",
    "ninth"
   ]
  },
  {
   "cell_type": "code",
   "execution_count": null,
   "id": "19b87135",
   "metadata": {},
   "outputs": [],
   "source": [
    "# Selecting tenth graders and non-ms courses \n",
    "tenth = eld[(eld['Grade'] == 10) & (eld['Year'] > 21)]\n",
    "tenth"
   ]
  },
  {
   "cell_type": "code",
   "execution_count": null,
   "id": "3d39cc3d",
   "metadata": {},
   "outputs": [],
   "source": [
    "# Selecting eleventh graders and non-ms courses\n",
    "eleventh = eld[(eld['Grade'] == 11) & (eld['Year'] > 20)]\n",
    "eleventh"
   ]
  },
  {
   "cell_type": "code",
   "execution_count": null,
   "id": "6c4838fe",
   "metadata": {},
   "outputs": [],
   "source": [
    "# Selecting twelfth graders and non-ms courses\n",
    "twelfth = eld[(eld['Grade'] == 12) & (eld['Year'] > 19)]\n",
    "twelfth"
   ]
  },
  {
   "cell_type": "code",
   "execution_count": null,
   "id": "a510623c",
   "metadata": {},
   "outputs": [],
   "source": [
    "# Putting the grades back together\n",
    "eld_final = pd.concat([ninth, tenth, eleventh, twelfth])\n",
    "eld_final"
   ]
  },
  {
   "cell_type": "code",
   "execution_count": null,
   "id": "15e7d998",
   "metadata": {},
   "outputs": [],
   "source": [
    "# Getting a new final transcript by combing eld filtered with non-eld\n",
    "final_transcript = pd.concat([non_eld, eld_final])\n",
    "final_transcript"
   ]
  },
  {
   "cell_type": "code",
   "execution_count": null,
   "id": "487919cf",
   "metadata": {},
   "outputs": [],
   "source": [
    "import base64\n",
    "from IPython.display import HTML\n",
    "\n",
    "def create_download_link( df, title = \"Transcript Fixed\", filename = \"Transcript Fixed\"):\n",
    "    csv = df.to_csv(index=False)\n",
    "    b64 = base64.b64encode(csv.encode())\n",
    "    payload = b64.decode()\n",
    "    html = '<a download=\"{filename}\" href=\"data:text/csv;base64,{payload}\" target=\"_blank\">{title}</a>'\n",
    "    html = html.format(payload=payload,title=title,filename=filename)\n",
    "    return HTML(html)\n",
    "\n",
    "create_download_link(final_transcript)"
   ]
  },
  {
   "cell_type": "code",
   "execution_count": null,
   "id": "fdff74e4",
   "metadata": {},
   "outputs": [],
   "source": []
  }
 ],
 "metadata": {
  "kernelspec": {
   "display_name": "Python 3 (ipykernel)",
   "language": "python",
   "name": "python3"
  },
  "language_info": {
   "codemirror_mode": {
    "name": "ipython",
    "version": 3
   },
   "file_extension": ".py",
   "mimetype": "text/x-python",
   "name": "python",
   "nbconvert_exporter": "python",
   "pygments_lexer": "ipython3",
   "version": "3.9.7"
  }
 },
 "nbformat": 4,
 "nbformat_minor": 5
}
