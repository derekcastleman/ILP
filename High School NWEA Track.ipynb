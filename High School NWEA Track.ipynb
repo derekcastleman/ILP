{
 "cells": [
  {
   "cell_type": "code",
   "execution_count": null,
   "id": "35c0c292",
   "metadata": {},
   "outputs": [],
   "source": [
    "import pandas as pd\n",
    "import numpy as np"
   ]
  },
  {
   "cell_type": "code",
   "execution_count": null,
   "id": "fb33f1f8",
   "metadata": {},
   "outputs": [],
   "source": [
    "nwea_fall = pd.read_csv(r\"C:\\Users\\derek.castleman\\Desktop\\ILP\\2023-2024\\Fall\\Data\\NWEA Results.csv\")\n",
    "nwea_fall"
   ]
  },
  {
   "cell_type": "code",
   "execution_count": null,
   "id": "c8a37037",
   "metadata": {},
   "outputs": [],
   "source": [
    "nwea_fall = nwea_fall[nwea_fall['GrowthMeasureYN'] == True]\n",
    "nwea_fall"
   ]
  },
  {
   "cell_type": "code",
   "execution_count": null,
   "id": "49d7abb1",
   "metadata": {},
   "outputs": [],
   "source": [
    "nwea_fall = nwea_fall[['StudentID', 'Subject', 'TestPercentile', 'FallToFallMetProjectedGrowth']]\n",
    "nwea_fall"
   ]
  },
  {
   "cell_type": "code",
   "execution_count": null,
   "id": "f16e7f20",
   "metadata": {},
   "outputs": [],
   "source": [
    "nwea_ela = nwea_fall[nwea_fall['Subject'] == 'Language Arts']\n",
    "nwea_ela"
   ]
  },
  {
   "cell_type": "code",
   "execution_count": null,
   "id": "032927c7",
   "metadata": {},
   "outputs": [],
   "source": [
    "nwea_math = nwea_fall[nwea_fall['Subject'] == 'Mathematics']\n",
    "nwea_math"
   ]
  },
  {
   "cell_type": "code",
   "execution_count": null,
   "id": "2499be09",
   "metadata": {},
   "outputs": [],
   "source": [
    "def f(row):\n",
    "    if row['TestPercentile'] > 40: \n",
    "        val = 'On Track'\n",
    "    elif row['TestPercentile'] <= 40 & row['FallToFallMetProjectedGrowth'] == 'Yes':\n",
    "        val = 'Stretch'\n",
    "    else:\n",
    "        val = 'Off Track' \n",
    "    return val"
   ]
  },
  {
   "cell_type": "code",
   "execution_count": null,
   "id": "91f9bef6",
   "metadata": {},
   "outputs": [],
   "source": [
    "nwea_ela_track = nwea_ela[nwea_ela['TestPercentile'] > 40]\n",
    "nwea_ela_track"
   ]
  },
  {
   "cell_type": "code",
   "execution_count": null,
   "id": "ee0e49ca",
   "metadata": {},
   "outputs": [],
   "source": [
    "nwea_ela_track['NWEA ELA On Track'] = 'On Track'\n",
    "nwea_ela_track"
   ]
  },
  {
   "cell_type": "code",
   "execution_count": null,
   "id": "ad82e662",
   "metadata": {},
   "outputs": [],
   "source": [
    "nwea_ela_stretch = nwea_ela[nwea_ela['TestPercentile'] <= 40]\n",
    "nwea_ela_stretch"
   ]
  },
  {
   "cell_type": "code",
   "execution_count": null,
   "id": "5c55765a",
   "metadata": {},
   "outputs": [],
   "source": [
    "nwea_ela_stretch = nwea_ela_stretch[nwea_ela_stretch['FallToFallMetProjectedGrowth'] == 'Yes']\n",
    "nwea_ela_stretch"
   ]
  },
  {
   "cell_type": "code",
   "execution_count": null,
   "id": "cb82da54",
   "metadata": {},
   "outputs": [],
   "source": [
    "nwea_ela_stretch['NWEA ELA On Track'] = 'Stretch'\n",
    "nwea_ela_stretch"
   ]
  },
  {
   "cell_type": "code",
   "execution_count": null,
   "id": "8be9d689",
   "metadata": {},
   "outputs": [],
   "source": [
    "nwea_ela_off = nwea_ela[nwea_ela['TestPercentile'] <= 40]\n",
    "nwea_ela_off"
   ]
  },
  {
   "cell_type": "code",
   "execution_count": null,
   "id": "97c793ec",
   "metadata": {},
   "outputs": [],
   "source": [
    "nwea_ela_off = nwea_ela_off[nwea_ela_off['FallToFallMetProjectedGrowth'] == 'No']\n",
    "nwea_ela_off"
   ]
  },
  {
   "cell_type": "code",
   "execution_count": null,
   "id": "79c359d2",
   "metadata": {},
   "outputs": [],
   "source": [
    "nwea_ela_off['NWEA ELA On Track'] = 'Off Track'\n",
    "nwea_ela_off"
   ]
  },
  {
   "cell_type": "code",
   "execution_count": null,
   "id": "0fabc4ac",
   "metadata": {},
   "outputs": [],
   "source": [
    "nwea_ela = pd.concat([nwea_ela_track, nwea_ela_stretch, nwea_ela_off])\n",
    "nwea_ela"
   ]
  },
  {
   "cell_type": "code",
   "execution_count": null,
   "id": "dcbd1a64",
   "metadata": {},
   "outputs": [],
   "source": [
    "nwea_ela = nwea_ela[['StudentID', 'NWEA ELA On Track']]\n",
    "nwea_ela"
   ]
  },
  {
   "cell_type": "code",
   "execution_count": null,
   "id": "b9341328",
   "metadata": {},
   "outputs": [],
   "source": [
    "nwea_math"
   ]
  },
  {
   "cell_type": "code",
   "execution_count": null,
   "id": "a4c0b6b7",
   "metadata": {},
   "outputs": [],
   "source": [
    "nwea_math_track = nwea_math[nwea_math['TestPercentile'] > 40]\n",
    "nwea_math_track"
   ]
  },
  {
   "cell_type": "code",
   "execution_count": null,
   "id": "82f7248b",
   "metadata": {},
   "outputs": [],
   "source": [
    "nwea_math_track['NWEA Math On Track'] = 'On Track'\n",
    "nwea_math_track"
   ]
  },
  {
   "cell_type": "code",
   "execution_count": null,
   "id": "d113d44f",
   "metadata": {},
   "outputs": [],
   "source": [
    "nwea_math_stretch = nwea_math[nwea_math['TestPercentile'] <= 40]\n",
    "nwea_math_stretch"
   ]
  },
  {
   "cell_type": "code",
   "execution_count": null,
   "id": "bbf7f63b",
   "metadata": {},
   "outputs": [],
   "source": [
    "nwea_math_stretch = nwea_math_stretch[nwea_math_stretch['FallToFallMetProjectedGrowth'] == 'Yes']\n",
    "nwea_math_stretch"
   ]
  },
  {
   "cell_type": "code",
   "execution_count": null,
   "id": "e9282840",
   "metadata": {},
   "outputs": [],
   "source": [
    "nwea_math_stretch['NWEA Math On Track'] = 'Stretch'\n",
    "nwea_math_stretch"
   ]
  },
  {
   "cell_type": "code",
   "execution_count": null,
   "id": "38669aee",
   "metadata": {},
   "outputs": [],
   "source": [
    "nwea_math_off = nwea_math[nwea_math['TestPercentile'] <= 40]\n",
    "nwea_math_off"
   ]
  },
  {
   "cell_type": "code",
   "execution_count": null,
   "id": "d8840b5a",
   "metadata": {},
   "outputs": [],
   "source": [
    "nwea_math_off = nwea_math_off[nwea_math_off['FallToFallMetProjectedGrowth'] == 'No']\n",
    "nwea_math_off"
   ]
  },
  {
   "cell_type": "code",
   "execution_count": null,
   "id": "70dc3032",
   "metadata": {},
   "outputs": [],
   "source": [
    "nwea_math_off['NWEA Math On Track'] = 'Off Track'\n",
    "nwea_math_off"
   ]
  },
  {
   "cell_type": "code",
   "execution_count": null,
   "id": "2dd6dc38",
   "metadata": {},
   "outputs": [],
   "source": [
    "nwea_math = pd.concat([nwea_math_track, nwea_math_stretch, nwea_math_off])\n",
    "nwea_math"
   ]
  },
  {
   "cell_type": "code",
   "execution_count": null,
   "id": "5b29f08d",
   "metadata": {},
   "outputs": [],
   "source": [
    "nwea_math = nwea_math[['StudentID', 'NWEA Math On Track']]\n",
    "nwea_math"
   ]
  },
  {
   "cell_type": "code",
   "execution_count": null,
   "id": "21dfe8c5",
   "metadata": {},
   "outputs": [],
   "source": [
    "final = pd.merge(nwea_ela, nwea_math, how='outer', on='StudentID')\n",
    "final"
   ]
  },
  {
   "cell_type": "code",
   "execution_count": null,
   "id": "b85fb261",
   "metadata": {},
   "outputs": [],
   "source": [
    "import base64\n",
    "from IPython.display import HTML\n",
    "\n",
    "def create_download_link( df, title = \"On Track NWEA\", filename = \"On Track NWEA\"):\n",
    "    csv = df.to_csv()\n",
    "    b64 = base64.b64encode(csv.encode())\n",
    "    payload = b64.decode()\n",
    "    html = '<a download=\"{filename}\" href=\"data:text/csv;base64,{payload}\" target=\"_blank\">{title}</a>'\n",
    "    html = html.format(payload=payload,title=title,filename=filename)\n",
    "    return HTML(html)\n",
    "\n",
    "create_download_link(final)"
   ]
  },
  {
   "cell_type": "code",
   "execution_count": null,
   "id": "4000c06a",
   "metadata": {},
   "outputs": [],
   "source": []
  }
 ],
 "metadata": {
  "kernelspec": {
   "display_name": "Python 3 (ipykernel)",
   "language": "python",
   "name": "python3"
  },
  "language_info": {
   "codemirror_mode": {
    "name": "ipython",
    "version": 3
   },
   "file_extension": ".py",
   "mimetype": "text/x-python",
   "name": "python",
   "nbconvert_exporter": "python",
   "pygments_lexer": "ipython3",
   "version": "3.9.7"
  }
 },
 "nbformat": 4,
 "nbformat_minor": 5
}
